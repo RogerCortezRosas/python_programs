{
 "cells": [
  {
   "attachments": {},
   "cell_type": "markdown",
   "metadata": {},
   "source": [
    "## Estructuras de Datos"
   ]
  },
  {
   "attachments": {},
   "cell_type": "markdown",
   "metadata": {},
   "source": [
    "1) Crear una lista que contenga nombres de ciudades del mundo que contenga más de 5 elementos e imprimir por pantalla"
   ]
  },
  {
   "cell_type": "code",
   "execution_count": 2,
   "metadata": {},
   "outputs": [],
   "source": [
    "lista = [\"Madrid\" , \"Tokyo\",\"Berlin\",\"Sao paulo\",\"Cancun\"]"
   ]
  },
  {
   "attachments": {},
   "cell_type": "markdown",
   "metadata": {},
   "source": [
    "2) Imprimir por pantalla el segundo elemento de la lista"
   ]
  },
  {
   "cell_type": "code",
   "execution_count": 2,
   "metadata": {},
   "outputs": [
    {
     "name": "stdout",
     "output_type": "stream",
     "text": [
      "Tokyo\n"
     ]
    }
   ],
   "source": [
    "print(lista[1])"
   ]
  },
  {
   "attachments": {},
   "cell_type": "markdown",
   "metadata": {},
   "source": [
    "3) Imprimir por pantalla del segundo al cuarto elemento"
   ]
  },
  {
   "cell_type": "code",
   "execution_count": 3,
   "metadata": {},
   "outputs": [
    {
     "name": "stdout",
     "output_type": "stream",
     "text": [
      "['Tokyo', 'Berlin', 'Sao paulo', 'Cancun']\n"
     ]
    }
   ],
   "source": [
    "print(lista[1:5])"
   ]
  },
  {
   "attachments": {},
   "cell_type": "markdown",
   "metadata": {},
   "source": [
    "4) Visualizar el tipo de dato de la lista"
   ]
  },
  {
   "cell_type": "code",
   "execution_count": 4,
   "metadata": {},
   "outputs": [
    {
     "data": {
      "text/plain": [
       "list"
      ]
     },
     "execution_count": 4,
     "metadata": {},
     "output_type": "execute_result"
    }
   ],
   "source": [
    "type(lista)"
   ]
  },
  {
   "attachments": {},
   "cell_type": "markdown",
   "metadata": {},
   "source": [
    "5) Visualizar todos los elementos de la lista a partir del tercero de manera genérica, es decir, sin explicitar la posición del último elemento"
   ]
  },
  {
   "cell_type": "code",
   "execution_count": 5,
   "metadata": {},
   "outputs": [
    {
     "name": "stdout",
     "output_type": "stream",
     "text": [
      "['Berlin', 'Sao paulo', 'Cancun']\n"
     ]
    }
   ],
   "source": [
    "print(lista[2:])"
   ]
  },
  {
   "attachments": {},
   "cell_type": "markdown",
   "metadata": {},
   "source": [
    "6) Visualizar los primeros 4 elementos de la lista"
   ]
  },
  {
   "cell_type": "code",
   "execution_count": 7,
   "metadata": {},
   "outputs": [
    {
     "name": "stdout",
     "output_type": "stream",
     "text": [
      "['Madrid', 'Tokyo', 'Berlin', 'Sao paulo']\n"
     ]
    }
   ],
   "source": [
    "print(lista[:4])"
   ]
  },
  {
   "attachments": {},
   "cell_type": "markdown",
   "metadata": {},
   "source": [
    "7) Agregar una ciudad más a la lista que ya exista y otra que no ¿Arroja algún tipo de error?"
   ]
  },
  {
   "cell_type": "code",
   "execution_count": 5,
   "metadata": {},
   "outputs": [
    {
     "name": "stdout",
     "output_type": "stream",
     "text": [
      "['Madrid', 'Tokyo', 'Berlin', 'Sao paulo', 'Cancun', 'Tokyo', 2, 'Tokyo', -2, 'Tokyo', -2]\n"
     ]
    }
   ],
   "source": [
    "lista.append(\"Tokyo\")\n",
    "lista.append (-2)\n",
    "\n",
    "print(lista)"
   ]
  },
  {
   "attachments": {},
   "cell_type": "markdown",
   "metadata": {},
   "source": [
    "8) Agregar otra ciudad, pero en la cuarta posición"
   ]
  },
  {
   "cell_type": "code",
   "execution_count": 13,
   "metadata": {},
   "outputs": [
    {
     "name": "stdout",
     "output_type": "stream",
     "text": [
      "['Madrid', 'Tokyo', 'CDMX', 'CDMX', 'Berlin', 'Sao paulo', 'Cancun', 'Paris', 'Hong kong', 'Tokyo', 'Hong kong']\n"
     ]
    }
   ],
   "source": [
    "lista.insert(2,\"CDMX\")\n",
    "print(lista)"
   ]
  },
  {
   "attachments": {},
   "cell_type": "markdown",
   "metadata": {},
   "source": [
    "9) Concatenar otra lista a la ya creada"
   ]
  },
  {
   "cell_type": "code",
   "execution_count": 21,
   "metadata": {},
   "outputs": [
    {
     "name": "stdout",
     "output_type": "stream",
     "text": [
      "['Madrid', 'Tokyo', 'CDMX', 'CDMX', 'Berlin', 'Sao paulo', 'Cancun', 'Paris', 'Hong kong', 'Tokyo', 'Hong kong', 'Londres', 'Moscu', 'New york', 'Londres', 'Moscu', 'New york', 'Londres', 'Moscu', 'New york', 'Londres', 'Moscu', 'New york', 'Londres', 'Moscu', 'New york', 'Londres', 'Moscu', 'New york', 'Londres', 'Moscu', 'New york', 'Londres', 'Moscu', 'New york']\n"
     ]
    }
   ],
   "source": [
    "lista.extend([\"Londres\",\"Moscu\",\"New york\"])\n",
    "print(lista)"
   ]
  },
  {
   "attachments": {},
   "cell_type": "markdown",
   "metadata": {},
   "source": [
    "10) Encontrar el índice de la ciudad que en el punto 7 agregamos duplicada. ¿Se nota alguna particularidad?"
   ]
  },
  {
   "cell_type": "code",
   "execution_count": 22,
   "metadata": {},
   "outputs": [
    {
     "data": {
      "text/plain": [
       "1"
      ]
     },
     "execution_count": 22,
     "metadata": {},
     "output_type": "execute_result"
    }
   ],
   "source": [
    "lista.index(\"Tokyo\")"
   ]
  },
  {
   "attachments": {},
   "cell_type": "markdown",
   "metadata": {},
   "source": [
    "11) ¿Qué pasa si se busca un elemento que no existe?"
   ]
  },
  {
   "cell_type": "code",
   "execution_count": 23,
   "metadata": {},
   "outputs": [
    {
     "ename": "ValueError",
     "evalue": "'San Diego' is not in list",
     "output_type": "error",
     "traceback": [
      "\u001b[1;31m---------------------------------------------------------------------------\u001b[0m",
      "\u001b[1;31mValueError\u001b[0m                                Traceback (most recent call last)",
      "Cell \u001b[1;32mIn[23], line 1\u001b[0m\n\u001b[1;32m----> 1\u001b[0m lista\u001b[39m.\u001b[39;49mindex(\u001b[39m\"\u001b[39;49m\u001b[39mSan Diego\u001b[39;49m\u001b[39m\"\u001b[39;49m)\n",
      "\u001b[1;31mValueError\u001b[0m: 'San Diego' is not in list"
     ]
    }
   ],
   "source": [
    "lista.index(\"San Diego\")"
   ]
  },
  {
   "attachments": {},
   "cell_type": "markdown",
   "metadata": {},
   "source": [
    "12) Eliminar un elemento de la lista"
   ]
  },
  {
   "cell_type": "code",
   "execution_count": 26,
   "metadata": {},
   "outputs": [
    {
     "name": "stdout",
     "output_type": "stream",
     "text": [
      "['Madrid', 'Tokyo', 'Berlin', 'Sao paulo', 'Cancun', 'Paris', 'Hong kong', 'Tokyo', 'Hong kong', 'Londres', 'Moscu', 'New york', 'Londres', 'Moscu', 'New york', 'Londres', 'Moscu', 'New york', 'Londres', 'Moscu', 'New york', 'Londres', 'Moscu', 'New york', 'Londres', 'Moscu', 'New york', 'Londres', 'Moscu', 'New york', 'Londres', 'Moscu', 'New york']\n"
     ]
    }
   ],
   "source": [
    "lista.remove(\"CDMX\")\n",
    "print(lista)"
   ]
  },
  {
   "attachments": {},
   "cell_type": "markdown",
   "metadata": {},
   "source": [
    "13) ¿Qué pasa si el elemento a eliminar no existe?"
   ]
  },
  {
   "cell_type": "code",
   "execution_count": 27,
   "metadata": {},
   "outputs": [
    {
     "ename": "ValueError",
     "evalue": "list.remove(x): x not in list",
     "output_type": "error",
     "traceback": [
      "\u001b[1;31m---------------------------------------------------------------------------\u001b[0m",
      "\u001b[1;31mValueError\u001b[0m                                Traceback (most recent call last)",
      "Cell \u001b[1;32mIn[27], line 1\u001b[0m\n\u001b[1;32m----> 1\u001b[0m lista\u001b[39m.\u001b[39;49mremove(\u001b[39m\"\u001b[39;49m\u001b[39mCDMX\u001b[39;49m\u001b[39m\"\u001b[39;49m)\n\u001b[0;32m      2\u001b[0m \u001b[39mprint\u001b[39m(lista)\n",
      "\u001b[1;31mValueError\u001b[0m: list.remove(x): x not in list"
     ]
    }
   ],
   "source": [
    "lista.remove(\"CDMX\")\n",
    "print(lista)"
   ]
  },
  {
   "attachments": {},
   "cell_type": "markdown",
   "metadata": {},
   "source": [
    "14) Extraer el úlimo elemento de la lista, guardarlo en una variable e imprimirlo"
   ]
  },
  {
   "cell_type": "code",
   "execution_count": 28,
   "metadata": {},
   "outputs": [
    {
     "name": "stdout",
     "output_type": "stream",
     "text": [
      "New york\n"
     ]
    }
   ],
   "source": [
    "var = lista.pop()\n",
    "print(var)"
   ]
  },
  {
   "attachments": {},
   "cell_type": "markdown",
   "metadata": {},
   "source": [
    "15) Mostrar la lista multiplicada por 4"
   ]
  },
  {
   "cell_type": "code",
   "execution_count": 29,
   "metadata": {},
   "outputs": [
    {
     "data": {
      "text/plain": [
       "['Madrid',\n",
       " 'Tokyo',\n",
       " 'Berlin',\n",
       " 'Sao paulo',\n",
       " 'Cancun',\n",
       " 'Paris',\n",
       " 'Hong kong',\n",
       " 'Tokyo',\n",
       " 'Hong kong',\n",
       " 'Londres',\n",
       " 'Moscu',\n",
       " 'New york',\n",
       " 'Londres',\n",
       " 'Moscu',\n",
       " 'New york',\n",
       " 'Londres',\n",
       " 'Moscu',\n",
       " 'New york',\n",
       " 'Londres',\n",
       " 'Moscu',\n",
       " 'New york',\n",
       " 'Londres',\n",
       " 'Moscu',\n",
       " 'New york',\n",
       " 'Londres',\n",
       " 'Moscu',\n",
       " 'New york',\n",
       " 'Londres',\n",
       " 'Moscu',\n",
       " 'New york',\n",
       " 'Londres',\n",
       " 'Moscu',\n",
       " 'Madrid',\n",
       " 'Tokyo',\n",
       " 'Berlin',\n",
       " 'Sao paulo',\n",
       " 'Cancun',\n",
       " 'Paris',\n",
       " 'Hong kong',\n",
       " 'Tokyo',\n",
       " 'Hong kong',\n",
       " 'Londres',\n",
       " 'Moscu',\n",
       " 'New york',\n",
       " 'Londres',\n",
       " 'Moscu',\n",
       " 'New york',\n",
       " 'Londres',\n",
       " 'Moscu',\n",
       " 'New york',\n",
       " 'Londres',\n",
       " 'Moscu',\n",
       " 'New york',\n",
       " 'Londres',\n",
       " 'Moscu',\n",
       " 'New york',\n",
       " 'Londres',\n",
       " 'Moscu',\n",
       " 'New york',\n",
       " 'Londres',\n",
       " 'Moscu',\n",
       " 'New york',\n",
       " 'Londres',\n",
       " 'Moscu',\n",
       " 'Madrid',\n",
       " 'Tokyo',\n",
       " 'Berlin',\n",
       " 'Sao paulo',\n",
       " 'Cancun',\n",
       " 'Paris',\n",
       " 'Hong kong',\n",
       " 'Tokyo',\n",
       " 'Hong kong',\n",
       " 'Londres',\n",
       " 'Moscu',\n",
       " 'New york',\n",
       " 'Londres',\n",
       " 'Moscu',\n",
       " 'New york',\n",
       " 'Londres',\n",
       " 'Moscu',\n",
       " 'New york',\n",
       " 'Londres',\n",
       " 'Moscu',\n",
       " 'New york',\n",
       " 'Londres',\n",
       " 'Moscu',\n",
       " 'New york',\n",
       " 'Londres',\n",
       " 'Moscu',\n",
       " 'New york',\n",
       " 'Londres',\n",
       " 'Moscu',\n",
       " 'New york',\n",
       " 'Londres',\n",
       " 'Moscu',\n",
       " 'Madrid',\n",
       " 'Tokyo',\n",
       " 'Berlin',\n",
       " 'Sao paulo',\n",
       " 'Cancun',\n",
       " 'Paris',\n",
       " 'Hong kong',\n",
       " 'Tokyo',\n",
       " 'Hong kong',\n",
       " 'Londres',\n",
       " 'Moscu',\n",
       " 'New york',\n",
       " 'Londres',\n",
       " 'Moscu',\n",
       " 'New york',\n",
       " 'Londres',\n",
       " 'Moscu',\n",
       " 'New york',\n",
       " 'Londres',\n",
       " 'Moscu',\n",
       " 'New york',\n",
       " 'Londres',\n",
       " 'Moscu',\n",
       " 'New york',\n",
       " 'Londres',\n",
       " 'Moscu',\n",
       " 'New york',\n",
       " 'Londres',\n",
       " 'Moscu',\n",
       " 'New york',\n",
       " 'Londres',\n",
       " 'Moscu']"
      ]
     },
     "execution_count": 29,
     "metadata": {},
     "output_type": "execute_result"
    }
   ],
   "source": [
    "lista *  4  "
   ]
  },
  {
   "attachments": {},
   "cell_type": "markdown",
   "metadata": {},
   "source": [
    "16) Crear una tupla que contenga los números enteros del 1 al 20"
   ]
  },
  {
   "cell_type": "code",
   "execution_count": 38,
   "metadata": {},
   "outputs": [],
   "source": [
    "tupla = (1,2,3,4,5,6,7,8,9,10,11,12,13,14,15,16,17,18,19,20)"
   ]
  },
  {
   "attachments": {},
   "cell_type": "markdown",
   "metadata": {},
   "source": [
    "17) Imprimir desde el índice 10 al 15 de la tupla"
   ]
  },
  {
   "cell_type": "code",
   "execution_count": 42,
   "metadata": {},
   "outputs": [
    {
     "name": "stdout",
     "output_type": "stream",
     "text": [
      "(10, 11, 12, 13, 14, 15)\n"
     ]
    }
   ],
   "source": [
    "print(tupla[10:16])"
   ]
  },
  {
   "attachments": {},
   "cell_type": "markdown",
   "metadata": {},
   "source": [
    "18) Evaluar si los números 20 y 30 están dentro de la tupla"
   ]
  },
  {
   "cell_type": "code",
   "execution_count": 43,
   "metadata": {},
   "outputs": [
    {
     "data": {
      "text/plain": [
       "False"
      ]
     },
     "execution_count": 43,
     "metadata": {},
     "output_type": "execute_result"
    }
   ],
   "source": [
    "20 in tupla\n",
    "30 in tupla"
   ]
  },
  {
   "attachments": {},
   "cell_type": "markdown",
   "metadata": {},
   "source": [
    "19) Con la lista creada en el punto 1, validar la existencia del elemento 'París' y si no existe, agregarlo. Utilizar una variable e informar lo sucedido."
   ]
  },
  {
   "cell_type": "code",
   "execution_count": 49,
   "metadata": {},
   "outputs": [
    {
     "name": "stdout",
     "output_type": "stream",
     "text": [
      "Se agrego Paris exitosamente\n"
     ]
    }
   ],
   "source": [
    "type(lista)\n",
    "lista.remove(\"Paris\")\n",
    "\n",
    "if(\"Paris\" in lista):\n",
    "    print(\"Paris ya esta en la lista\")\n",
    "else:\n",
    "    lista.append(\"Paris\")\n",
    "    print(\"Se agrego Paris exitosamente\")"
   ]
  },
  {
   "attachments": {},
   "cell_type": "markdown",
   "metadata": {},
   "source": [
    "20) Mostrar la cantidad de veces que se encuentra un elemento específico dentro de la tupla y de la lista"
   ]
  },
  {
   "cell_type": "code",
   "execution_count": 51,
   "metadata": {},
   "outputs": [
    {
     "name": "stdout",
     "output_type": "stream",
     "text": [
      "1\n",
      "8\n"
     ]
    }
   ],
   "source": [
    "print(tupla.count(10))\n",
    "print(lista.count(\"Moscu\"))"
   ]
  },
  {
   "attachments": {},
   "cell_type": "markdown",
   "metadata": {},
   "source": [
    "21) Convertir la tupla en una lista"
   ]
  },
  {
   "cell_type": "code",
   "execution_count": 53,
   "metadata": {},
   "outputs": [
    {
     "data": {
      "text/plain": [
       "list"
      ]
     },
     "execution_count": 53,
     "metadata": {},
     "output_type": "execute_result"
    }
   ],
   "source": [
    "tupla2=list(tupla)\n",
    "type(tupla2)"
   ]
  },
  {
   "attachments": {},
   "cell_type": "markdown",
   "metadata": {},
   "source": [
    "22) Desempaquetar solo los primeros 3 elementos de la tupla en 3 variables"
   ]
  },
  {
   "cell_type": "code",
   "execution_count": 58,
   "metadata": {},
   "outputs": [
    {
     "name": "stdout",
     "output_type": "stream",
     "text": [
      "0\n",
      "1\n",
      "2\n"
     ]
    }
   ],
   "source": [
    "a , b , c = tupla[:3]\n",
    "print (a)\n",
    "print(b)\n",
    "print(c)"
   ]
  },
  {
   "attachments": {},
   "cell_type": "markdown",
   "metadata": {},
   "source": [
    "23) Crear un diccionario utilizando la lista crada en el punto 1, asignandole la clave \"ciudad\". Agregar tambien otras claves, como puede ser \"Pais\" y \"Continente\"."
   ]
  },
  {
   "cell_type": "code",
   "execution_count": 59,
   "metadata": {},
   "outputs": [
    {
     "name": "stdout",
     "output_type": "stream",
     "text": [
      "{'Ciudad': ['Madrid', 'Tokyo', 'Berlin', 'Sao paulo', 'Cancun', 'Hong kong', 'Tokyo', 'Hong kong', 'Londres', 'Moscu', 'New york', 'Londres', 'Moscu', 'New york', 'Londres', 'Moscu', 'New york', 'Londres', 'Moscu', 'New york', 'Londres', 'Moscu', 'New york', 'Londres', 'Moscu', 'New york', 'Londres', 'Moscu', 'New york', 'Londres', 'Moscu', 'Paris'], 'Pais': 'Mexico', 'Continente': 'Asia'}\n"
     ]
    }
   ],
   "source": [
    "diccionario = {'Ciudad':lista , 'Pais':\"Mexico\",\"Continente\":\"Asia\"}\n",
    "print(diccionario)"
   ]
  },
  {
   "attachments": {},
   "cell_type": "markdown",
   "metadata": {},
   "source": [
    "24) Imprimir las claves del diccionario"
   ]
  },
  {
   "cell_type": "code",
   "execution_count": 60,
   "metadata": {},
   "outputs": [
    {
     "name": "stdout",
     "output_type": "stream",
     "text": [
      "dict_keys(['Ciudad', 'Pais', 'Continente'])\n"
     ]
    }
   ],
   "source": [
    "print(diccionario.keys())"
   ]
  },
  {
   "attachments": {},
   "cell_type": "markdown",
   "metadata": {},
   "source": [
    "25) Imprimir las ciudades a través de su clave"
   ]
  },
  {
   "cell_type": "code",
   "execution_count": 62,
   "metadata": {},
   "outputs": [
    {
     "data": {
      "text/plain": [
       "['Madrid',\n",
       " 'Tokyo',\n",
       " 'Berlin',\n",
       " 'Sao paulo',\n",
       " 'Cancun',\n",
       " 'Hong kong',\n",
       " 'Tokyo',\n",
       " 'Hong kong',\n",
       " 'Londres',\n",
       " 'Moscu',\n",
       " 'New york',\n",
       " 'Londres',\n",
       " 'Moscu',\n",
       " 'New york',\n",
       " 'Londres',\n",
       " 'Moscu',\n",
       " 'New york',\n",
       " 'Londres',\n",
       " 'Moscu',\n",
       " 'New york',\n",
       " 'Londres',\n",
       " 'Moscu',\n",
       " 'New york',\n",
       " 'Londres',\n",
       " 'Moscu',\n",
       " 'New york',\n",
       " 'Londres',\n",
       " 'Moscu',\n",
       " 'New york',\n",
       " 'Londres',\n",
       " 'Moscu',\n",
       " 'Paris']"
      ]
     },
     "execution_count": 62,
     "metadata": {},
     "output_type": "execute_result"
    }
   ],
   "source": [
    "diccionario['Ciudad']"
   ]
  }
 ],
 "metadata": {
  "interpreter": {
   "hash": "c85384e4cb51c8b72350f3a8712cc8351fdc3955e32a27f9b60c6242ab125f01"
  },
  "kernelspec": {
   "display_name": "Python 3 (ipykernel)",
   "language": "python",
   "name": "python3"
  },
  "language_info": {
   "codemirror_mode": {
    "name": "ipython",
    "version": 3
   },
   "file_extension": ".py",
   "mimetype": "text/x-python",
   "name": "python",
   "nbconvert_exporter": "python",
   "pygments_lexer": "ipython3",
   "version": "3.11.4"
  }
 },
 "nbformat": 4,
 "nbformat_minor": 4
}
