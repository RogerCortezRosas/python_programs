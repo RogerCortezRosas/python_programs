{
 "cells": [
  {
   "attachments": {},
   "cell_type": "markdown",
   "metadata": {},
   "source": [
    "## Manejo de errores"
   ]
  },
  {
   "attachments": {},
   "cell_type": "markdown",
   "metadata": {},
   "source": [
    "1) Con la clase creada en el módulo 7, tener en cuenta diferentes casos en que el código pudiera arrojar error. Por ejemplo, en la creación del objeto recibimos una lista de números enteros pero ¿qué pasa si se envía otro tipo de dato?"
   ]
  },
  {
   "cell_type": "code",
   "execution_count": 6,
   "metadata": {},
   "outputs": [],
   "source": [
    "\n",
    "\n",
    "class Funcionalidades:\n",
    "\n",
    "    def __init__(self,lista):\n",
    "        self.lista = lista\n",
    "        self.validaLista()\n",
    "    \n",
    "    def validaLista(self):\n",
    "        for i in self.lista:\n",
    "            assert type(i) == int , f'{i} no es un entero'\n",
    "    \n",
    "    def Grados (self,origen,destino):\n",
    "    ########## Validacion de datos ########\n",
    "     if (type(origen) == str and origen == 'Celsius'):\n",
    "           \n",
    "           raise ValueError('Se ha creaenviado un valor invalido para el origen')  \n",
    "     elif(type(destino) == str and destino == 'Farenheit'):\n",
    "          raise ValueError('Se ha creaenviado un valor invalido para el destino')\n",
    "     \n",
    "     assert type(origen) == str and origen == 'Celsius', f'El valor ingresado {origen} es incorrecto'\n",
    "     assert type(destino) == str and destino == 'Farenheit', f'El valor ingresado {destino} es incorrecto'\n",
    "    ############################################################################\n",
    "     if origen == \"Celsius\":\n",
    "        if destino == \"Farenheit\":\n",
    "            for c in self.lista:\n",
    "               F = c*(9/5)+32\n",
    "               print(c,\" grados Celsius son \",F,\" Grados Farenheit\")\n",
    "        elif destino == \"Kelvin\":\n",
    "             for c in self.lista:\n",
    "               K = c + 273.15\n",
    "               print(c,\" grados Celsius son \",K,\" Grados Kelvin\")\n",
    "        \n",
    "    def Funcion (self):\n",
    "        x = 1\n",
    "        repite = 1\n",
    "        repite_final = 0\n",
    "        elemneto_mayor = 0\n",
    "        z = 0\n",
    "        while z < len(self.lista):\n",
    "            while x <len(self.lista):\n",
    "                if self.lista[z] == self.lista[x]:\n",
    "                    repite +=1\n",
    "                x+=1\n",
    "            if repite > repite_final:\n",
    "                repite_final = repite\n",
    "                elemneto_mayor = self.lista[z]\n",
    "            repite=1\n",
    "            x = z+2\n",
    "            z+=1\n",
    "        return print(\"El elemento mas repetido en la lista es \",elemneto_mayor ,\" y se repite \",repite_final,\" veces\")\n",
    "\n",
    "    \n",
    "    def primo(self,nro):\n",
    "        es_primo = True  # Variable para almacenar el resultado de la verificación de número primo\n",
    "        for i in range(2, nro):  # Iteración sobre los números desde 2 hasta nro-1\n",
    "            if nro % i == 0:  # Verificación si nro es divisible por i (no es primo)\n",
    "                es_primo = False  # Se marca la variable como False indicando que el número no es primo\n",
    "                break  # Se rompe el bucle ya que no es necesario continuar la verificación\n",
    "        return es_primo  # Se devuelve el resultado de la verificación de número primo\n",
    "\n",
    "    def listaPrimos(self):\n",
    "        newLista = []\n",
    "        for c in self.lista:\n",
    "            varBool = self.primo(c)\n",
    "            if varBool == True and c not in newLista:\n",
    "                newLista.append(c)\n",
    "    \n",
    "        return print(\"Los numeros primos de la lista son : \",newLista)"
   ]
  },
  {
   "cell_type": "code",
   "execution_count": 23,
   "metadata": {},
   "outputs": [
    {
     "ename": "ValueError",
     "evalue": "Se ha creaenviado un valor invalido para el destino",
     "output_type": "error",
     "traceback": [
      "\u001b[1;31m---------------------------------------------------------------------------\u001b[0m",
      "\u001b[1;31mValueError\u001b[0m                                Traceback (most recent call last)",
      "Cell \u001b[1;32mIn[23], line 3\u001b[0m\n\u001b[0;32m      1\u001b[0m lis \u001b[39m=\u001b[39m [\u001b[39m1\u001b[39m,\u001b[39m2\u001b[39m,\u001b[39m3\u001b[39m,\u001b[39m8\u001b[39m,\u001b[39m7\u001b[39m]\n\u001b[0;32m      2\u001b[0m objClase \u001b[39m=\u001b[39m Funcionalidades(lis)\n\u001b[1;32m----> 3\u001b[0m objClase\u001b[39m.\u001b[39;49mGrados(\u001b[39m\"\u001b[39;49m\u001b[39mCelsiuss\u001b[39;49m\u001b[39m\"\u001b[39;49m,\u001b[39m\"\u001b[39;49m\u001b[39mFarenheit\u001b[39;49m\u001b[39m\"\u001b[39;49m)\n",
      "Cell \u001b[1;32mIn[22], line 16\u001b[0m, in \u001b[0;36mFuncionalidades.Grados\u001b[1;34m(self, origen, destino)\u001b[0m\n\u001b[0;32m     14\u001b[0m       \u001b[39mraise\u001b[39;00m \u001b[39mValueError\u001b[39;00m(\u001b[39m'\u001b[39m\u001b[39mSe ha creaenviado un valor invalido para el origen\u001b[39m\u001b[39m'\u001b[39m)  \n\u001b[0;32m     15\u001b[0m \u001b[39melif\u001b[39;00m(\u001b[39mtype\u001b[39m(destino) \u001b[39m==\u001b[39m \u001b[39mstr\u001b[39m \u001b[39mand\u001b[39;00m destino \u001b[39m==\u001b[39m \u001b[39m'\u001b[39m\u001b[39mFarenheit\u001b[39m\u001b[39m'\u001b[39m):\n\u001b[1;32m---> 16\u001b[0m      \u001b[39mraise\u001b[39;00m \u001b[39mValueError\u001b[39;00m(\u001b[39m'\u001b[39m\u001b[39mSe ha creaenviado un valor invalido para el destino\u001b[39m\u001b[39m'\u001b[39m)\n\u001b[0;32m     18\u001b[0m \u001b[39massert\u001b[39;00m \u001b[39mtype\u001b[39m(origen) \u001b[39m==\u001b[39m \u001b[39mstr\u001b[39m \u001b[39mand\u001b[39;00m origen \u001b[39m==\u001b[39m \u001b[39m'\u001b[39m\u001b[39mCelsius\u001b[39m\u001b[39m'\u001b[39m, \u001b[39mf\u001b[39m\u001b[39m'\u001b[39m\u001b[39mEl valor ingresado \u001b[39m\u001b[39m{\u001b[39;00morigen\u001b[39m}\u001b[39;00m\u001b[39m es incorrecto\u001b[39m\u001b[39m'\u001b[39m\n\u001b[0;32m     19\u001b[0m \u001b[39massert\u001b[39;00m \u001b[39mtype\u001b[39m(destino) \u001b[39m==\u001b[39m \u001b[39mstr\u001b[39m \u001b[39mand\u001b[39;00m destino \u001b[39m==\u001b[39m \u001b[39m'\u001b[39m\u001b[39mFarenheit\u001b[39m\u001b[39m'\u001b[39m, \u001b[39mf\u001b[39m\u001b[39m'\u001b[39m\u001b[39mEl valor ingresado \u001b[39m\u001b[39m{\u001b[39;00mdestino\u001b[39m}\u001b[39;00m\u001b[39m es incorrecto\u001b[39m\u001b[39m'\u001b[39m\n",
      "\u001b[1;31mValueError\u001b[0m: Se ha creaenviado un valor invalido para el destino"
     ]
    }
   ],
   "source": [
    "lis = [1,2,3,8,7]\n",
    "objClase = Funcionalidades(lis)\n",
    "objClase.Grados(\"Celsiuss\",\"Farenheit\")"
   ]
  },
  {
   "attachments": {},
   "cell_type": "markdown",
   "metadata": {},
   "source": [
    "2) En la función que hace la conversión de grados, validar que los parámetros enviados sean los esperados, de no serlo, informar cuáles son los valores esperados."
   ]
  },
  {
   "cell_type": "code",
   "execution_count": null,
   "metadata": {},
   "outputs": [],
   "source": [
    "def Grados (self,origen,destino):\n",
    "    ########## Validacion de datos ########\n",
    "     if (type(origen) == str and origen == 'Celsius'):\n",
    "           \n",
    "           raise ValueError('Se ha creaenviado un valor invalido para el origen')  \n",
    "     elif(type(destino) == str and destino == 'Farenheit'):\n",
    "          raise ValueError('Se ha creaenviado un valor invalido para el destino')\n",
    "     \n",
    "     assert type(origen) == str and origen == 'Celsius', f'El valor ingresado {origen} es incorrecto'\n",
    "     assert type(destino) == str and destino == 'Farenheit', f'El valor ingresado {destino} es incorrecto'\n",
    "    ############################################################################"
   ]
  },
  {
   "cell_type": "code",
   "execution_count": 3,
   "metadata": {},
   "outputs": [],
   "source": [
    "import sys\n",
    "sys.path.append(r'C:\\Users\\rogel\\Documents\\Henry\\Python-Prep\\M08_clasesyOOP\\Servicios.py') # Agrega la ruta al archivo 'herramientas.py' al sys.path\n"
   ]
  },
  {
   "attachments": {},
   "cell_type": "markdown",
   "metadata": {},
   "source": [
    "3) Importar el modulo \"unittest\" y crear los siguientes casos de pruebas sobre la clase utilizada en el punto 2<br>\n",
    "Creacion del objeto incorrecta<br>\n",
    "Creacion correcta del objeto<br>\n",
    "Metodo valor_modal()<br>\n",
    "\n",
    "Se puede usar \"raise ValueError()\" en la creación de la clase para verificar el error. Investigar sobre esta funcionalidad."
   ]
  },
  {
   "cell_type": "code",
   "execution_count": 28,
   "metadata": {},
   "outputs": [],
   "source": [
    "import unittest\n",
    "import Servicios as ser\n",
    " \n",
    "\n",
    "\n",
    "class ProbandoClase (unittest.TestCase):\n",
    "    def test_crearObjeto(self):\n",
    "        param = 'hola'\n",
    "        self.assertRaises(ValueError,ser.laclase,param)\n",
    "    def test_crearObjeto2(self):\n",
    "        param = [1,2,3,4]\n",
    "        h1 = ser.laclase(param)\n",
    "        self.assertEqual(h1.lista,param)\n",
    "    def test_Funcion(self):\n",
    "        lis = [1,2,3,4,4]\n",
    "        h1 = ser.laclase(lis)\n",
    "        newList = []\n",
    "        newList = h1.Funcion()\n",
    "        \n",
    "        self.assertEqual(lis,newList)\n",
    "\n",
    "    def test_Primos(self):\n",
    "        lis = [3,4,1,5]\n",
    "        lisComp = [True,False,True,False]\n",
    "        prim = ser.laclase.listaPrimos(lis)\n",
    "        self.assertEqual(lisComp,prim)\n",
    "        \n"
   ]
  },
  {
   "cell_type": "code",
   "execution_count": 29,
   "metadata": {},
   "outputs": [
    {
     "name": "stderr",
     "output_type": "stream",
     "text": [
      "test_Funcion (__main__.ProbandoClase.test_Funcion) ... FAIL\n",
      "test_Primos (__main__.ProbandoClase.test_Primos) ... ERROR\n",
      "test_crearObjeto (__main__.ProbandoClase.test_crearObjeto) ... FAIL\n",
      "test_crearObjeto2 (__main__.ProbandoClase.test_crearObjeto2) ... ok\n",
      "\n",
      "======================================================================\n",
      "ERROR: test_Primos (__main__.ProbandoClase.test_Primos)\n",
      "----------------------------------------------------------------------\n",
      "Traceback (most recent call last):\n",
      "  File \"C:\\Users\\rogel\\AppData\\Local\\Temp\\ipykernel_11348\\3649187621.py\", line 25, in test_Primos\n",
      "    prim = ser.laclase.listaPrimos(lis)\n",
      "           ^^^^^^^^^^^^^^^^^^^^^^^^^^^^\n",
      "  File \"c:\\Users\\rogel\\Documents\\Henry\\Python-Prep\\M09_errorhandling\\Servicios.py\", line 49, in listaPrimos\n",
      "    break  # Se rompe el bucle ya que no es necesario continuar la verificación\n",
      "     ^^^^^^^^^^\n",
      "AttributeError: 'list' object has no attribute 'lista'\n",
      "\n",
      "======================================================================\n",
      "FAIL: test_Funcion (__main__.ProbandoClase.test_Funcion)\n",
      "----------------------------------------------------------------------\n",
      "Traceback (most recent call last):\n",
      "  File \"C:\\Users\\rogel\\AppData\\Local\\Temp\\ipykernel_11348\\3649187621.py\", line 20, in test_Funcion\n",
      "    self.assertEqual(lis,newList)\n",
      "AssertionError: [1, 2, 3, 4, 4] != None\n",
      "\n",
      "======================================================================\n",
      "FAIL: test_crearObjeto (__main__.ProbandoClase.test_crearObjeto)\n",
      "----------------------------------------------------------------------\n",
      "Traceback (most recent call last):\n",
      "  File \"C:\\Users\\rogel\\AppData\\Local\\Temp\\ipykernel_11348\\3649187621.py\", line 9, in test_crearObjeto\n",
      "    self.assertRaises(ValueError,ser.laclase,param)\n",
      "AssertionError: ValueError not raised by laclase\n",
      "\n",
      "----------------------------------------------------------------------\n",
      "Ran 4 tests in 0.013s\n",
      "\n",
      "FAILED (failures=2, errors=1)\n"
     ]
    },
    {
     "name": "stdout",
     "output_type": "stream",
     "text": [
      "El elemnto mas repetido en la lista es  4  y se repite  2  veces\n"
     ]
    },
    {
     "data": {
      "text/plain": [
       "<unittest.main.TestProgram at 0x2949da3b910>"
      ]
     },
     "execution_count": 29,
     "metadata": {},
     "output_type": "execute_result"
    }
   ],
   "source": [
    "unittest.main(argv=[''], verbosity = 2 , exit=False)\n"
   ]
  },
  {
   "attachments": {},
   "cell_type": "markdown",
   "metadata": {},
   "source": [
    "4) Probar una creación incorrecta y visualizar la salida del \"raise\""
   ]
  },
  {
   "cell_type": "code",
   "execution_count": null,
   "metadata": {},
   "outputs": [],
   "source": []
  },
  {
   "attachments": {},
   "cell_type": "markdown",
   "metadata": {},
   "source": [
    "6) Agregar casos de pruebas para el método verifica_primos() realizando el cambio en la clase, para que devuelva una lista de True o False en función de que el elemento en la posisicón sea o no primo"
   ]
  },
  {
   "cell_type": "code",
   "execution_count": null,
   "metadata": {},
   "outputs": [],
   "source": []
  },
  {
   "attachments": {},
   "cell_type": "markdown",
   "metadata": {},
   "source": [
    "7) Agregar casos de pruebas para el método conversion_grados()"
   ]
  },
  {
   "cell_type": "code",
   "execution_count": 18,
   "metadata": {},
   "outputs": [],
   "source": [
    "def Factorial(numero):\n",
    "    '''\n",
    "    Esta función devuelve el factorial del número pasado como parámetro.\n",
    "    En caso de que no sea de tipo entero y/o sea menor que 1, debe retornar nulo.\n",
    "    Recibe un argumento:\n",
    "        numero: Será el número con el que se calcule el factorial\n",
    "    Ej:\n",
    "        Factorial(4) debe retornar 24\n",
    "        Factorial(-2) debe retornar nulo\n",
    "    '''\n",
    "    #Tu código aca:\n",
    "    if (type(numero)!=int):\n",
    "        return None\n",
    "    if (numero < 1):\n",
    "        return None\n",
    "    factorial = numero\n",
    "    \n",
    "    while(numero > 1):\n",
    "\n",
    "        factorial = factorial * (numero - 1 )\n",
    "        numero-=1\n",
    "    return factorial\n",
    "\n"
   ]
  },
  {
   "cell_type": "code",
   "execution_count": 17,
   "metadata": {},
   "outputs": [
    {
     "name": "stdout",
     "output_type": "stream",
     "text": [
      "0\n"
     ]
    }
   ],
   "source": [
    "valor = Factorial(4)\n",
    "print(valor)"
   ]
  },
  {
   "cell_type": "code",
   "execution_count": null,
   "metadata": {},
   "outputs": [],
   "source": []
  },
  {
   "attachments": {},
   "cell_type": "markdown",
   "metadata": {},
   "source": [
    "8) Agregar casos de pruebas para el método factorial()"
   ]
  },
  {
   "cell_type": "code",
   "execution_count": 1,
   "metadata": {},
   "outputs": [],
   "source": [
    "NUMERO = input('ingresa')"
   ]
  }
 ],
 "metadata": {
  "interpreter": {
   "hash": "c85384e4cb51c8b72350f3a8712cc8351fdc3955e32a27f9b60c6242ab125f01"
  },
  "kernelspec": {
   "display_name": "Python 3 (ipykernel)",
   "language": "python",
   "name": "python3"
  },
  "language_info": {
   "codemirror_mode": {
    "name": "ipython",
    "version": 3
   },
   "file_extension": ".py",
   "mimetype": "text/x-python",
   "name": "python",
   "nbconvert_exporter": "python",
   "pygments_lexer": "ipython3",
   "version": "3.11.4"
  }
 },
 "nbformat": 4,
 "nbformat_minor": 4
}
