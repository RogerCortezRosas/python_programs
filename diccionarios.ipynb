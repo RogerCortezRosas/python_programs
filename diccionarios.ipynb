{
 "cells": [
  {
   "cell_type": "code",
   "execution_count": 4,
   "metadata": {},
   "outputs": [],
   "source": [
    "# Crweacion de diccionario\n",
    "\n",
    "Paises = {'Mexico' : 'CDMX' , 'Francia': 'Paris' , \"Portugal\" : \"Lisboa\" , \"Violeta\" : 22 , \"Eva\" : 45 , \"Lista\" : [1,2,3,4,5]} "
   ]
  },
  {
   "cell_type": "markdown",
   "metadata": {},
   "source": [
    "Poemos acceder a todas las claves de un diccionario con el método `.keys()`"
   ]
  },
  {
   "cell_type": "code",
   "execution_count": 5,
   "metadata": {},
   "outputs": [
    {
     "data": {
      "text/plain": [
       "dict_keys(['Mexico', 'Francia', 'Portugal', 'Violeta', 'Eva', 'Lista'])"
      ]
     },
     "execution_count": 5,
     "metadata": {},
     "output_type": "execute_result"
    }
   ],
   "source": [
    "Paises.keys()"
   ]
  },
  {
   "cell_type": "markdown",
   "metadata": {},
   "source": [
    "\n",
    "También podemos acceder a todos los valores de un diccionario con el método `.values()`"
   ]
  },
  {
   "cell_type": "code",
   "execution_count": 6,
   "metadata": {},
   "outputs": [
    {
     "data": {
      "text/plain": [
       "dict_values(['CDMX', 'Paris', 'Lisboa', 22, 45, [1, 2, 3, 4, 5]])"
      ]
     },
     "execution_count": 6,
     "metadata": {},
     "output_type": "execute_result"
    }
   ],
   "source": [
    "Paises.values()"
   ]
  },
  {
   "cell_type": "markdown",
   "metadata": {},
   "source": [
    "Al ser una estructura mutable, podemos modificar los valores de los diccionarios"
   ]
  },
  {
   "cell_type": "code",
   "execution_count": 8,
   "metadata": {},
   "outputs": [
    {
     "name": "stdout",
     "output_type": "stream",
     "text": [
      "{'Mexico': ['GDL', 'Merida'], 'Francia': 'Paris', 'Portugal': 'Lisboa', 'Violeta': 22, 'Eva': 45, 'Lista': [25, 2, 3, 4, 5]}\n"
     ]
    }
   ],
   "source": [
    "Paises [\"Mexico\"] = [\"GDL\",\"Merida\"]\n",
    "Paises[\"Lista\"][0] = 25\n",
    "print(Paises) "
   ]
  },
  {
   "cell_type": "markdown",
   "metadata": {},
   "source": [
    "También podríamos partir de un diccionario vacío e ir introduciéndole valores asociados a claves. De hecho, podemos hasta pedirle a un usuario que introduzca él los datos.\n"
   ]
  },
  {
   "cell_type": "code",
   "execution_count": 9,
   "metadata": {},
   "outputs": [
    {
     "name": "stdout",
     "output_type": "stream",
     "text": [
      "Introduce genero f para femenino y m para masculino\n",
      "{'Nombre': 'Roger]', 'Edad': 28, 'genero': 'masculino'}\n"
     ]
    }
   ],
   "source": [
    "usuario = {}\n",
    "usuario[\"Nombre\"] = str(input(\"Introduce nombre\"))\n",
    "usuario[\"Edad\"] = int(input(\"Introduce edad\"))\n",
    "print(\"Introduce genero f para femenino y m para masculino\")\n",
    "usuario[\"genero\"] = \"femenino \" if input() == 'f' else 'masculino'\n",
    "print(usuario)"
   ]
  },
  {
   "cell_type": "markdown",
   "metadata": {},
   "source": [
    "## Bucles y diccionarios\n",
    "\n",
    "Para recorrer todo el diccionario, podemos hacer uso de un bucle `for`, pues el diccionario es una estructura iterable:"
   ]
  },
  {
   "cell_type": "code",
   "execution_count": 10,
   "metadata": {},
   "outputs": [
    {
     "name": "stdout",
     "output_type": "stream",
     "text": [
      "Mexico :  ['GDL', 'Merida']\n",
      "Francia :  Paris\n",
      "Portugal :  Lisboa\n",
      "Violeta :  22\n",
      "Eva :  45\n",
      "Lista :  [25, 2, 3, 4, 5]\n"
     ]
    }
   ],
   "source": [
    "for key in Paises:\n",
    "    print(key, \": \",Paises[key])"
   ]
  },
  {
   "cell_type": "markdown",
   "metadata": {},
   "source": [
    "Otra forma de recorrer el diccionario sería obteniendo una lista de tuplas de la forma `(clave, valor)` para cada elemento de un diccionario, que construimos con el método `.items()`. Al ser una lista, sabemos que es iterable y podemos mostrar todas sus entradas haciendo uso de un bucle `for`."
   ]
  },
  {
   "cell_type": "code",
   "execution_count": 12,
   "metadata": {},
   "outputs": [
    {
     "name": "stdout",
     "output_type": "stream",
     "text": [
      "dict_items([('Mexico', ['GDL', 'Merida']), ('Francia', 'Paris'), ('Portugal', 'Lisboa'), ('Violeta', 22), ('Eva', 45), ('Lista', [25, 2, 3, 4, 5])])\n",
      "('Mexico', ['GDL', 'Merida'])\n",
      "('Francia', 'Paris')\n",
      "('Portugal', 'Lisboa')\n",
      "('Violeta', 22)\n",
      "('Eva', 45)\n",
      "('Lista', [25, 2, 3, 4, 5])\n"
     ]
    }
   ],
   "source": [
    "tupla_Paises = Paises.items()\n",
    "print (tupla_Paises)\n",
    "for i in tupla_Paises:\n",
    "    print (i)"
   ]
  },
  {
   "cell_type": "markdown",
   "metadata": {},
   "source": [
    "Para tener clave y valor por separado, podemos hacerlo del siguiente modo:"
   ]
  },
  {
   "cell_type": "code",
   "execution_count": 13,
   "metadata": {},
   "outputs": [
    {
     "name": "stdout",
     "output_type": "stream",
     "text": [
      "Mexico : ['GDL', 'Merida']\n",
      "Francia : Paris\n",
      "Portugal : Lisboa\n",
      "Violeta : 22\n",
      "Eva : 45\n",
      "Lista : [25, 2, 3, 4, 5]\n"
     ]
    }
   ],
   "source": [
    "for key,value in tupla_Paises:\n",
    "    print(key,\":\",value)"
   ]
  },
  {
   "cell_type": "markdown",
   "metadata": {},
   "source": [
    "## Diccionarios y listas\n",
    "\n",
    "Como se ha mencionado antes, un diccionario puede contener listas u otros diccionarios. Por su parte, una lista también puede contener diccionarios:"
   ]
  },
  {
   "cell_type": "code",
   "execution_count": 14,
   "metadata": {},
   "outputs": [
    {
     "name": "stdout",
     "output_type": "stream",
     "text": [
      "{'name': 'Elisa', 'age': 30, 'gender': 'female', 'ID': [4, 4, 2, 1, 5, 6, 7, 2, 'L'], 'user&password': {'username': 'eli88', 'password': '1234catsareawesome'}}\n",
      "{'name': 'Henry', 'age': 27, 'gender': 'male', 'ID': [1, 1, 0, 1, 3, 8, 6, 9, 'A'], 'user&password': {'username': 'superhenry', 'password': '1432superme'}}\n"
     ]
    }
   ],
   "source": [
    "dicc_1 = {\"name\": \"Elisa\",\n",
    "        \"age\": 30,\n",
    "        \"gender\": \"female\",\n",
    "        \"ID\": [4, 4, 2, 1, 5, 6, 7, 2, \"L\"],\n",
    "        \"user&password\": {\n",
    "            \"username\": \"eli88\",\n",
    "            \"password\": \"1234catsareawesome\"\n",
    "            }\n",
    "          }\n",
    "dicc_2 = {\"name\": \"Henry\",\n",
    "        \"age\": 27,\n",
    "        \"gender\": \"male\",\n",
    "        \"ID\": [1, 1, 0, 1, 3, 8, 6, 9, \"A\"],\n",
    "        \"user&password\": {\n",
    "            \"username\": \"superhenry\",\n",
    "            \"password\": \"1432superme\"\n",
    "            }\n",
    "          }\n",
    "lista = [dicc_1, dicc_2]\n",
    "\n",
    "for item in lista:\n",
    "  print(item)"
   ]
  },
  {
   "cell_type": "markdown",
   "metadata": {},
   "source": [
    "## Más métodos de diccionarios\n",
    "\n",
    "El método `.clear()` elimina todos los elementos del diccionario dejándolo vacío.\n"
   ]
  },
  {
   "cell_type": "code",
   "execution_count": 15,
   "metadata": {},
   "outputs": [
    {
     "name": "stdout",
     "output_type": "stream",
     "text": [
      "{'a': 4, 'b': 3, 'c': 2, 'd': 1}\n",
      "{}\n"
     ]
    }
   ],
   "source": [
    "dicc = {\"a\": 4, \"b\": 3, \"c\": 2, \"d\": 1}\n",
    "print(dicc)\n",
    "\n",
    "dicc.clear()\n",
    "print(dicc)"
   ]
  },
  {
   "cell_type": "markdown",
   "metadata": {},
   "source": [
    "El método `.copy()` devuelve una copia del diccionario original."
   ]
  },
  {
   "cell_type": "code",
   "execution_count": 16,
   "metadata": {},
   "outputs": [
    {
     "name": "stdout",
     "output_type": "stream",
     "text": [
      "{'a': 4, 'b': 3, 'c': 2, 'd': 1}\n"
     ]
    }
   ],
   "source": [
    "dicc = {\"a\": 4, \"b\": 3, \"c\": 2, \"d\": 1}\n",
    "dicc_copy = dicc.copy()\n",
    "\n",
    "print(dicc_copy)"
   ]
  },
  {
   "cell_type": "markdown",
   "metadata": {},
   "source": [
    "El método `.fromkeys()` recibe como parámetros un iterable y un valor y devuelve un diccionario que contiene como claves los elementos del iterable con el mismo valor ingresado. "
   ]
  },
  {
   "cell_type": "code",
   "execution_count": 17,
   "metadata": {},
   "outputs": [
    {
     "name": "stdout",
     "output_type": "stream",
     "text": [
      "{'a': [1, 2, 3, 4], 'b': [1, 2, 3, 4], 'c': [1, 2, 3, 4], 'd': [1, 2, 3, 4], 'e': [1, 2, 3, 4]}\n"
     ]
    }
   ],
   "source": [
    "dicc = dict.fromkeys([\"a\", \"b\", \"c\", \"d\", \"e\"], [1, 2, 3, 4])\n",
    "print(dicc)"
   ]
  },
  {
   "cell_type": "markdown",
   "metadata": {},
   "source": [
    "**Observación.** Si el parámetro valor se deja en blanco, el método devolverá un diccionario con el valor `None` para todas las claves."
   ]
  },
  {
   "cell_type": "code",
   "execution_count": 18,
   "metadata": {},
   "outputs": [
    {
     "name": "stdout",
     "output_type": "stream",
     "text": [
      "{'a': None, 'b': None, 'c': None, 'd': None, 'e': None}\n"
     ]
    }
   ],
   "source": [
    "dicc = dict.fromkeys([\"a\", \"b\", \"c\", \"d\", \"e\"])\n",
    "print(dicc)"
   ]
  },
  {
   "cell_type": "markdown",
   "metadata": {},
   "source": [
    "El método `.get()` recibe como parámetro una clave y devuelve el valor de dicha clave.\n",
    "\n",
    "\n"
   ]
  },
  {
   "cell_type": "code",
   "execution_count": 21,
   "metadata": {},
   "outputs": [
    {
     "name": "stdout",
     "output_type": "stream",
     "text": [
      "1\n"
     ]
    }
   ],
   "source": [
    "dicc = {\"a\": 1, \"e\": 2, \"i\": 3, \"o\": 4, \"u\": 5}\n",
    "print(dicc.get(\"a\"))"
   ]
  },
  {
   "cell_type": "markdown",
   "metadata": {},
   "source": [
    "El método `.pop()` recibe como parámetro una clave, la elimina y devuelve su valor. "
   ]
  },
  {
   "cell_type": "code",
   "execution_count": 22,
   "metadata": {},
   "outputs": [
    {
     "name": "stdout",
     "output_type": "stream",
     "text": [
      "{'a': 1, 'e': 2, 'i': 3, 'o': 4, 'u': 5}\n",
      "3\n",
      "{'a': 1, 'e': 2, 'o': 4, 'u': 5}\n"
     ]
    }
   ],
   "source": [
    "dicc = {\"a\": 1, \"e\": 2, \"i\": 3, \"o\": 4, \"u\": 5}\n",
    "print(dicc)\n",
    "\n",
    "print(dicc.pop(\"i\"))\n",
    "print(dicc)"
   ]
  },
  {
   "cell_type": "markdown",
   "metadata": {},
   "source": [
    "**Observación.** Si la clave indicada por parámetro no se encuentra en el diccionario, el método devuelve error.\n",
    "\n",
    "El método `.setdefault()` puede funcionar de dos formas:\n",
    "\n",
    "- Como el método `.get()`\n",
    "- Para agregar un nuevo elemento al diccionario."
   ]
  },
  {
   "cell_type": "code",
   "execution_count": 23,
   "metadata": {},
   "outputs": [
    {
     "name": "stdout",
     "output_type": "stream",
     "text": [
      "3\n",
      "6\n",
      "{'a': 1, 'e': 2, 'i': 3, 'o': 4, 'u': 5, 'ü': 6}\n"
     ]
    }
   ],
   "source": [
    "# Como .get()\n",
    "dicc = {\"a\": 1, \"e\": 2, \"i\": 3, \"o\": 4, \"u\": 5}\n",
    "print(dicc.setdefault(\"i\"))\n",
    "\n",
    "# Para agregar nuevo elemento\n",
    "print(dicc.setdefault(\"ü\", 6))\n",
    "print(dicc)"
   ]
  },
  {
   "cell_type": "markdown",
   "metadata": {},
   "source": [
    "El método `.update()` recibe como parámetro otro diccionario. En caso de tener claves iguales, actualiza el valor de la clave repetida. En caso de no haber claves iguales, el par `clave: valor` es agregado al diccionario al que es aplicado el método."
   ]
  },
  {
   "cell_type": "code",
   "execution_count": 24,
   "metadata": {},
   "outputs": [
    {
     "name": "stdout",
     "output_type": "stream",
     "text": [
      "{'a': 80, 'e': 5, 'i': 3, 'o': 4, 'u': 5, 'b': 2, 'c': 3, 'd': 4}\n"
     ]
    }
   ],
   "source": [
    "dicc1 = {\"a\": 1, \"e\": 2, \"i\": 3, \"o\": 4, \"u\": 5}\n",
    "dicc2 = {\"a\": 80, \"b\": 2, \"c\": 3, \"d\": 4, \"e\": 5}\n",
    "dicc1.update(dicc2)\n",
    "\n",
    "print(dicc1)"
   ]
  },
  {
   "cell_type": "markdown",
   "metadata": {},
   "source": [
    "## Construyendo diccionarios con dict()\n",
    "\n",
    "Para convertir un objeto iterable de `Python` a diccionario, hay que usar la función `dict()`"
   ]
  },
  {
   "cell_type": "code",
   "execution_count": 28,
   "metadata": {},
   "outputs": [
    {
     "data": {
      "text/plain": [
       "{'x': 1, 'y': 2}"
      ]
     },
     "execution_count": 28,
     "metadata": {},
     "output_type": "execute_result"
    }
   ],
   "source": [
    "l = [[\"x\", 1], [\"y\", 2]]\n",
    "dict(l)"
   ]
  },
  {
   "cell_type": "markdown",
   "metadata": {},
   "source": [
    "Aunque la función `dict()` también sirve para definir diccionarios directamente:"
   ]
  },
  {
   "cell_type": "code",
   "execution_count": 29,
   "metadata": {},
   "outputs": [
    {
     "name": "stdout",
     "output_type": "stream",
     "text": [
      "{'x': 0, 'y': 1, 'z': -1}\n"
     ]
    }
   ],
   "source": [
    "dicc1 = dict(x = 0, y = 1, z = -1)\n",
    "print(dicc1)\n"
   ]
  },
  {
   "cell_type": "code",
   "execution_count": 7,
   "metadata": {},
   "outputs": [
    {
     "name": "stdout",
     "output_type": "stream",
     "text": [
      "['Platano', 'Mango']\n",
      "{'Platano': 40, 'Mango': 150}\n"
     ]
    }
   ],
   "source": [
    "# Escribir en un diccionario los precios de unas frutas por kg y que el usuario seleccione la fruta y kilos seleccionados\n",
    "# y muestre por pantalla las frutas que lleva y el total por todo lo que lleva\n",
    "\n",
    "frutas = {\"Platano\":20 , \"Manzana\":45 , \"Aguacate\":35 , \"Mango\":30 , \"Naranja\":27 , \"Mandarina\":35}\n",
    "\n",
    "listaFrutas = []\n",
    "frutas2 = {}\n",
    "fruit= '1'\n",
    "kilos = 1\n",
    "while (fruit!=\"\"):\n",
    "    \n",
    "        fruit = str(input(\"Seleccione las frutas a comprar\"))\n",
    "        if fruit!=\"\":\n",
    "            listaFrutas.append(fruit)\n",
    "\n",
    "\n",
    "for i in listaFrutas:\n",
    "        \n",
    "        kilos = int(input(\"Cuantos kilos de {} deseas\".format(i)))\n",
    "        if kilos!=0:\n",
    "            frutas2[i] = kilos\n",
    "\n",
    "for key in frutas:\n",
    "      for key2 in frutas2:\n",
    "            if key == key2:\n",
    "                 frutas2[key2]  = frutas[key]*frutas2[key2]\n",
    "                  \n",
    "\n",
    "print(listaFrutas)\n",
    "print(frutas2)\n",
    "\n"
   ]
  },
  {
   "cell_type": "code",
   "execution_count": 11,
   "metadata": {},
   "outputs": [
    {
     "data": {
      "text/plain": [
       "{'1': 457.35, '3': 346.21, '4': 1054.45}"
      ]
     },
     "execution_count": 11,
     "metadata": {},
     "output_type": "execute_result"
    }
   ],
   "source": [
    "#Escribir un prgrama que gestione las facturas pendientes de una empresa.\n",
    "#Las facturas se almacenaran en un diccionario donde la clave de cada factura sera el numero de facttura y el valor el coste de la factura.\n",
    "#El programa debera de preguntar al usuario si quiere añadir una nueva factura se agregara , si desa pagar una factura \n",
    "#se pregunte el numero de la factura y se eliminara del diccionario\n",
    "#Despues de cada operacion el programa debe mostrar por pantalla la cantidad cobrada hasta el momento y la cantidad pendiente de cobro\n",
    "\n",
    "factura = {\"1\":457.35 , \"2\":2143.68 , \"3\":346.21 , \"4\":1054.45}\n",
    "\n",
    "opcion = int(input(\"Que accion desea realizar: 1) Añadir factura  2)Pagar factura\"))\n",
    "\n",
    "if opcion== 1:\n",
    "    monto = int(input(\"Ingrese el monto de la nueva factura\"))\n",
    "    factura[str(len(factura)+1)] = monto\n",
    "if opcion == 2:\n",
    "    NoFactura = str(input(\"Que factura desea pagar {}\".format(factura.keys())))\n",
    "\n",
    "for i in factura:\n",
    "    if NoFactura == i:\n",
    "        factura.pop(i)\n",
    "        break\n",
    "factura\n"
   ]
  },
  {
   "cell_type": "code",
   "execution_count": null,
   "metadata": {},
   "outputs": [],
   "source": [
    "# Escribir un programaque permita gestionar la base datos de clientes de una empresa.\n",
    "#Los clientes se guradaran enun diccionario en el que cada clave de cada cliente sera su NIF, y el valor sera otro diccionario\n",
    "#con los datos del cliente(nombre,direccion,telefono,correo,preferente)"
   ]
  },
  {
   "cell_type": "code",
   "execution_count": 8,
   "metadata": {},
   "outputs": [
    {
     "name": "stdout",
     "output_type": "stream",
     "text": [
      "4\n"
     ]
    }
   ],
   "source": [
    "factura = {\"1\":457.35 , \"2\":2143.68 , \"3\":346.21 , \"4\":1054.45}\n",
    "\n",
    "print(len(factura))"
   ]
  }
 ],
 "metadata": {
  "kernelspec": {
   "display_name": "Python 3",
   "language": "python",
   "name": "python3"
  },
  "language_info": {
   "codemirror_mode": {
    "name": "ipython",
    "version": 3
   },
   "file_extension": ".py",
   "mimetype": "text/x-python",
   "name": "python",
   "nbconvert_exporter": "python",
   "pygments_lexer": "ipython3",
   "version": "3.11.5"
  },
  "orig_nbformat": 4
 },
 "nbformat": 4,
 "nbformat_minor": 2
}
