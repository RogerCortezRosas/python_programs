{
 "cells": [
  {
   "attachments": {},
   "cell_type": "markdown",
   "metadata": {},
   "source": [
    "## Clases y Programación Orientada a Objetos"
   ]
  },
  {
   "attachments": {},
   "cell_type": "markdown",
   "metadata": {},
   "source": [
    "1) Crear la clase vehículo que contenga los atributos:<br>\n",
    "Color<br>\n",
    "Si es moto, auto, camioneta ó camión<br>\n",
    "Cilindrada del motor"
   ]
  },
  {
   "cell_type": "code",
   "execution_count": null,
   "metadata": {},
   "outputs": [],
   "source": [
    "class vehiculo:\n",
    "    def _init_(self,color,tipo,cilindrada):\n",
    "        self.color = color\n",
    "        self.tipo = tipo\n",
    "        self.cilindrada = cilindrada"
   ]
  },
  {
   "attachments": {},
   "cell_type": "markdown",
   "metadata": {},
   "source": [
    "2) A la clase Vehiculo creada en el punto 1, agregar los siguientes métodos:<br>\n",
    "Acelerar<br>\n",
    "Frenar<br>\n",
    "Doblar<br>"
   ]
  },
  {
   "cell_type": "code",
   "execution_count": null,
   "metadata": {},
   "outputs": [],
   "source": [
    "class vehiculo:\n",
    "    def __init__(self,color,tipo,cilindrada):\n",
    "        self.color = color\n",
    "        self.tipo = tipo\n",
    "        self.cilindrada = cilindrada\n",
    "        \n",
    "\n",
    "    def Acelerar(self):\n",
    "        print('Acelerar!')\n",
    "        \n",
    "    def Frenar(self):\n",
    "        print('Frenar!')\n",
    "        \n",
    "    def Doblar(self):\n",
    "        print('Doblar!')\n"
   ]
  },
  {
   "attachments": {},
   "cell_type": "markdown",
   "metadata": {},
   "source": [
    "3) Instanciar 3 objetos de la clase vehículo y ejecutar sus métodos, probar luego el resultado"
   ]
  },
  {
   "cell_type": "code",
   "execution_count": null,
   "metadata": {},
   "outputs": [
    {
     "name": "stdout",
     "output_type": "stream",
     "text": [
      "Acelerar!\n",
      "Frenar!\n",
      "Doblar!\n"
     ]
    }
   ],
   "source": [
    "objVehiculo = vehiculo('rojo','moto',4)\n",
    "objVehiculo2 = vehiculo('azul','auto',6)\n",
    "objVehiculo3 = vehiculo('verde','camion',8)\n",
    "\n",
    "objVehiculo.Acelerar()\n",
    "objVehiculo2.Frenar()\n",
    "objVehiculo3.Doblar()"
   ]
  },
  {
   "attachments": {},
   "cell_type": "markdown",
   "metadata": {},
   "source": [
    "4) Agregar a la clase Vehiculo, un método que muestre su estado, es decir, a que velocidad se encuentra y su dirección. Y otro método que muestre color, tipo y cilindrada"
   ]
  },
  {
   "cell_type": "code",
   "execution_count": null,
   "metadata": {},
   "outputs": [],
   "source": [
    "class vehiculo:\n",
    "    def __init__(self,color,tipo,cilindrada):\n",
    "        self.color = color\n",
    "        self.tipo = tipo\n",
    "        self.cilindrada = cilindrada\n",
    "        self.velocidad = 0\n",
    "        self.direccion = 'lkh'\n",
    "        \n",
    "\n",
    "    def Acelerar(self,velocidad):\n",
    "        self.velocidad = velocidad\n",
    "        \n",
    "    def Frenar(self):\n",
    "        print('Frenar!')\n",
    "        \n",
    "    def Doblar(self,direccion):\n",
    "        self.direccion = direccion\n",
    "\n",
    "    def estado(self):\n",
    "        print(\"La velocidad es \",self.velocidad,\" con direccion \",self.direccion)\n",
    "    def detalle(self):\n",
    "        print(\"Soy un@ \"+self.tipo+\" color \"+self.color+\" cilindrada \"+str(self.cilindrada))\n",
    "\n",
    "\n"
   ]
  },
  {
   "cell_type": "code",
   "execution_count": null,
   "metadata": {},
   "outputs": [
    {
     "name": "stdout",
     "output_type": "stream",
     "text": [
      "La velocidad es  20  con direccion  norte\n",
      "Soy un@ moto color rojo cilindrada 4\n"
     ]
    }
   ],
   "source": [
    "objVehiculo = vehiculo('rojo','moto',4)\n",
    "objVehiculo.Acelerar(20)\n",
    "objVehiculo.Doblar('norte')\n",
    "\n",
    "objVehiculo.estado()\n",
    "objVehiculo.detalle()"
   ]
  },
  {
   "attachments": {},
   "cell_type": "markdown",
   "metadata": {},
   "source": [
    "5) Crear una clase que permita utilizar las funciones creadas en la práctica del módulo 7<br>\n",
    "Verificar Primo<br>\n",
    "Valor modal<br>\n",
    "Conversión grados<br>\n",
    "Factorial<br>"
   ]
  },
  {
   "cell_type": "code",
   "execution_count": 14,
   "metadata": {},
   "outputs": [],
   "source": [
    "\n",
    "\n",
    "class Funcionalidades:\n",
    "\n",
    "    def __init__(self,lista):\n",
    "        self.lista = lista\n",
    "    \n",
    "    def Grados (self,origen=\"Celsius\",destino=\"Farenheit\"):\n",
    "     if origen == \"Celsius\":\n",
    "        if destino == \"Farenheit\":\n",
    "            for c in self.lista:\n",
    "               F = c*(9/5)+32\n",
    "               print(c,\" grados Celsius son \",F,\" Grados Farenheit\")\n",
    "        elif destino == \"Kelvin\":\n",
    "             for c in self.lista:\n",
    "               K = c + 273.15\n",
    "               print(c,\" grados Celsius son \",K,\" Grados Kelvin\")\n",
    "        \n",
    "    def Funcion (self):\n",
    "        x = 1\n",
    "        repite = 1\n",
    "        repite_final = 0\n",
    "        elemneto_mayor = 0\n",
    "        z = 0\n",
    "        while z < len(self.lista):\n",
    "            while x <len(self.lista):\n",
    "                if self.lista[z] == self.lista[x]:\n",
    "                    repite +=1\n",
    "                x+=1\n",
    "            if repite > repite_final:\n",
    "                repite_final = repite\n",
    "                elemneto_mayor = self.lista[z]\n",
    "            repite=1\n",
    "            x = z+2\n",
    "            z+=1\n",
    "        return print(\"El elemento mas repetido en la lista es \",elemneto_mayor ,\" y se repite \",repite_final,\" veces\")\n",
    "\n",
    "    \n",
    "    def primo(self,nro):\n",
    "        es_primo = True  # Variable para almacenar el resultado de la verificación de número primo\n",
    "        for i in range(2, nro):  # Iteración sobre los números desde 2 hasta nro-1\n",
    "            if nro % i == 0:  # Verificación si nro es divisible por i (no es primo)\n",
    "                es_primo = False  # Se marca la variable como False indicando que el número no es primo\n",
    "                break  # Se rompe el bucle ya que no es necesario continuar la verificación\n",
    "        return es_primo  # Se devuelve el resultado de la verificación de número primo\n",
    "\n",
    "    def listaPrimos(self):\n",
    "        newLista = []\n",
    "        for c in self.lista:\n",
    "            varBool = self.primo(c)\n",
    "            if varBool == True and c not in newLista:\n",
    "                newLista.append(c)\n",
    "    \n",
    "        return print(\"Los numeros primos de la lista son : \",newLista)"
   ]
  },
  {
   "attachments": {},
   "cell_type": "markdown",
   "metadata": {},
   "source": [
    "6) Probar las funciones incorporadas en la clase del punto 5"
   ]
  },
  {
   "cell_type": "code",
   "execution_count": 15,
   "metadata": {},
   "outputs": [
    {
     "name": "stdout",
     "output_type": "stream",
     "text": [
      "1  grados Celsius son  33.8  Grados Farenheit\n",
      "2  grados Celsius son  35.6  Grados Farenheit\n",
      "3  grados Celsius son  37.4  Grados Farenheit\n",
      "4  grados Celsius son  39.2  Grados Farenheit\n",
      "5  grados Celsius son  41.0  Grados Farenheit\n",
      "1  grados Celsius son  33.8  Grados Farenheit\n",
      "0  grados Celsius son  32.0  Grados Farenheit\n",
      "9  grados Celsius son  48.2  Grados Farenheit\n",
      "2  grados Celsius son  35.6  Grados Farenheit\n",
      "1  grados Celsius son  33.8  Grados Farenheit\n",
      "7  grados Celsius son  44.6  Grados Farenheit\n",
      "El elemento mas repetido en la lista es  1  y se repite  3  veces\n",
      "Los numeros primos de la lista son :  [1, 2, 3, 5, 0, 7]\n"
     ]
    }
   ],
   "source": [
    "lis = [1,2,3,4,5,1,0,9,2,1,7]\n",
    "objeInicializar = Funcionalidades(lis)\n",
    "objeInicializar.Grados()\n",
    "objeInicializar.Funcion()\n",
    "objeInicializar.listaPrimos()"
   ]
  },
  {
   "attachments": {},
   "cell_type": "markdown",
   "metadata": {},
   "source": [
    "7) Es necesario que la clase creada en el punto 5 contenga una lista, sobre la cual se apliquen las funciones incorporadas"
   ]
  },
  {
   "cell_type": "code",
   "execution_count": null,
   "metadata": {},
   "outputs": [],
   "source": []
  },
  {
   "attachments": {},
   "cell_type": "markdown",
   "metadata": {},
   "source": [
    "8) Crear un archivo .py aparte y ubicar allí la clase generada en el punto anterior. Luego realizar la importación del módulo y probar alguna de sus funciones"
   ]
  },
  {
   "cell_type": "code",
   "execution_count": 1,
   "metadata": {},
   "outputs": [
    {
     "name": "stdout",
     "output_type": "stream",
     "text": [
      "El elemnto mas repetido en la lista es  4  y se repite  3  veces\n",
      "1  grados Celsius son  33.8  Grados Farenheit\n",
      "2  grados Celsius son  35.6  Grados Farenheit\n",
      "1  grados Celsius son  33.8  Grados Farenheit\n",
      "3  grados Celsius son  37.4  Grados Farenheit\n",
      "4  grados Celsius son  39.2  Grados Farenheit\n",
      "4  grados Celsius son  39.2  Grados Farenheit\n",
      "4  grados Celsius son  39.2  Grados Farenheit\n",
      "5  grados Celsius son  41.0  Grados Farenheit\n",
      "Los numeros primos de la lista son :  [1, 2, 3, 5]\n"
     ]
    }
   ],
   "source": [
    "from Servicios import *\n",
    "\n",
    "objServicios = laclase([1,2,1,3,4,4,4,5])\n",
    "objServicios.Funcion()\n",
    "objServicios.Grados()\n",
    "objServicios.listaPrimos()"
   ]
  }
 ],
 "metadata": {
  "interpreter": {
   "hash": "c85384e4cb51c8b72350f3a8712cc8351fdc3955e32a27f9b60c6242ab125f01"
  },
  "kernelspec": {
   "display_name": "Python 3 (ipykernel)",
   "language": "python",
   "name": "python3"
  },
  "language_info": {
   "codemirror_mode": {
    "name": "ipython",
    "version": 3
   },
   "file_extension": ".py",
   "mimetype": "text/x-python",
   "name": "python",
   "nbconvert_exporter": "python",
   "pygments_lexer": "ipython3",
   "version": "3.11.4"
  }
 },
 "nbformat": 4,
 "nbformat_minor": 4
}
