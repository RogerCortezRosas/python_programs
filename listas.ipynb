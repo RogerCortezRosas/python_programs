{
 "cells": [
  {
   "cell_type": "code",
   "execution_count": 1,
   "metadata": {},
   "outputs": [
    {
     "name": "stdout",
     "output_type": "stream",
     "text": [
      "Tu lista es :  [1, 2, 3, 4, 5]\n"
     ]
    }
   ],
   "source": [
    "#Ingreso de datos de una lista\n",
    "\n",
    "n = int(input('Ingresa los elemntos de la lista'))\n",
    "\n",
    "lista = []\n",
    "\n",
    "for i in range (n):\n",
    "    lista.append(int(input()))\n",
    "\n",
    "print (\"Tu lista es : \",lista)\n"
   ]
  },
  {
   "cell_type": "code",
   "execution_count": 2,
   "metadata": {},
   "outputs": [
    {
     "name": "stdout",
     "output_type": "stream",
     "text": [
      "1\n",
      "2\n",
      "3\n",
      "4\n",
      "5\n"
     ]
    }
   ],
   "source": [
    "#lectura de lista por posicion\n",
    "\n",
    "for i in range(len(lista)):\n",
    "    print(lista[i])"
   ]
  },
  {
   "cell_type": "code",
   "execution_count": 3,
   "metadata": {},
   "outputs": [
    {
     "name": "stdout",
     "output_type": "stream",
     "text": [
      "1\n",
      "2\n",
      "3\n",
      "4\n",
      "5\n"
     ]
    }
   ],
   "source": [
    "#lectura de lista por datos\n",
    "\n",
    "for i in lista:\n",
    "    print(i)"
   ]
  },
  {
   "cell_type": "code",
   "execution_count": 4,
   "metadata": {},
   "outputs": [
    {
     "name": "stdout",
     "output_type": "stream",
     "text": [
      "El elemento 0 aparece 2 veces\n",
      "El elemento 12 aparece 1 veces\n",
      "El elemento 4 aparece 3 veces\n",
      "El elemento 5 aparece 4 veces\n",
      "El elemento 6 aparece 1 veces\n",
      "El elemento 8 aparece 1 veces\n",
      "El elemento 9 aparece 1 veces\n",
      "El elemento 7 aparece 1 veces\n",
      "El elemento 2 aparece 2 veces\n",
      "El elemento 3 aparece 1 veces\n",
      "El elemento 1 aparece 1 veces\n"
     ]
    }
   ],
   "source": [
    "# Saber el  numero de veces que se repite un numero en una lista\n",
    "\n",
    "number = [0,12,4,5,5,4,6,8,9,7,4,5,2,0,3,1,2,5]\n",
    "counted = []\n",
    "\n",
    "for element in number:\n",
    "    if element not in counted:\n",
    "        counted.append(element)\n",
    "        print(\"El elemento {} aparece {} veces\".format(element,number.count(element)))"
   ]
  },
  {
   "cell_type": "code",
   "execution_count": 2,
   "metadata": {},
   "outputs": [
    {
     "name": "stdout",
     "output_type": "stream",
     "text": [
      "[1, 2, 3, 2]\n",
      "[1, 2, 3, 2, 1, 2, 3, 4, 5, 6, 7, 8, 9]\n"
     ]
    }
   ],
   "source": [
    "numeros = [1,2,3]\n",
    "numeros.extend([2])\n",
    "print(numeros)\n",
    "numeros.extend(range(1,10))\n",
    "print(numeros)"
   ]
  },
  {
   "cell_type": "code",
   "execution_count": 5,
   "metadata": {},
   "outputs": [
    {
     "name": "stdout",
     "output_type": "stream",
     "text": [
      "[0, 0, 1, 2, 2, 3, 4, 4, 4, 5, 5, 5, 5, 6, 7, 8, 9, 12]\n"
     ]
    }
   ],
   "source": [
    "#Uso de la funcion sort() para ordenar la lista de forma ascendente\n",
    "number.sort()\n",
    "print(number)"
   ]
  },
  {
   "cell_type": "code",
   "execution_count": 7,
   "metadata": {},
   "outputs": [
    {
     "name": "stdout",
     "output_type": "stream",
     "text": [
      "[12, 9, 8, 7, 6, 5, 5, 5, 5, 4, 4, 4, 3, 2, 2, 1, 0, 0]\n"
     ]
    }
   ],
   "source": [
    "# Uso de la funcion .sort(reverse = False)\n",
    "number.sort(reverse = True)\n",
    "print(number)"
   ]
  },
  {
   "cell_type": "code",
   "execution_count": 17,
   "metadata": {},
   "outputs": [
    {
     "name": "stdout",
     "output_type": "stream",
     "text": [
      "Matematicas : 1\n",
      "Fisica : 2\n",
      "Quimica : 3\n",
      "Historia : 4\n",
      "Ingles : 5\n"
     ]
    }
   ],
   "source": [
    "# Escribir un prgrma con las asignaturas de Matematicas , Fisica , Quimica , Historia y Ingles \n",
    "# y pedirle al usuario que asigne la calificacion a cada materia y sacar el promedio final\n",
    "\n",
    "asignaturas = ['Matematicas','Fisica','Quimica','Historia','Ingles']\n",
    "calificaciones = []\n",
    "\n",
    "calificaciones = (list((map(lambda x: int(input('{}'.format(x))),asignaturas))))\n",
    "\n",
    "dicc = zip(asignaturas,calificaciones)\n",
    "val = dict(dicc)\n",
    "\n",
    "def asignarValores():\n",
    "    for i in val:\n",
    "        print(i,\":\",val[i])\n",
    "\n",
    "    for i,y in dicc:\n",
    "        print(i,\":\",y)\n",
    "\n",
    "def promedio(calif):\n",
    "    total=0\n",
    "    for i in calif:\n",
    "        total+=i\n",
    "    resultado = total/len(calif)\n",
    "    return resultado"
   ]
  },
  {
   "cell_type": "code",
   "execution_count": 18,
   "metadata": {},
   "outputs": [
    {
     "data": {
      "text/plain": [
       "[0, 1, 5, 6, 78]"
      ]
     },
     "execution_count": 18,
     "metadata": {},
     "output_type": "execute_result"
    }
   ],
   "source": [
    " #  Escriba un programa que pregunte al usuario los numeros ganadores de la loteria y los almaceneen un alista y los muestre por pantalla ordenados de menor a mayor\n",
    "\n",
    "numeros = []\n",
    "for i in range(5):\n",
    "    numeros.append(int(input(\"Ingresa un numero: \")))\n",
    "\n",
    "numeros.sort()\n",
    "\n",
    "numeros\n"
   ]
  },
  {
   "cell_type": "code",
   "execution_count": 35,
   "metadata": {},
   "outputs": [],
   "source": [
    "# Escribir un programa que almacene unas asignaturas y pregunte al usuario su calificacion de los tres parciales hacer \n",
    "# el promedio y verificar cual apobo y cual reprobo con su calificacion total\n",
    "\n",
    "class Calificaciones:\n",
    "\n",
    "    asignaturas = ['Matematicas','Fisica','Quimica','Historia','Ingles']\n",
    "    calificaciones = []\n",
    "    list_promedio = []\n",
    "    \n",
    "\n",
    "    def __init__ ( self):\n",
    "        pass\n",
    "\n",
    "    def obtain_Calif(self):\n",
    "        num = []\n",
    "        for i in range(len(self.asignaturas)):\n",
    "            for y in range(3):\n",
    "                num.append(int(input(\"Calificacion semestre {} de {}\".format(y+1,self.asignaturas[i]))))\n",
    "            self.calificaciones.append(num)\n",
    "            num = []\n",
    "\n",
    "\n",
    "\n",
    "    def Promedio(self):\n",
    "        \n",
    "        prom = 0\n",
    "\n",
    "        for i in self.calificaciones:\n",
    "            for y in i:\n",
    "                prom += y \n",
    "\n",
    "            prom = prom/len(i)\n",
    "            self.list_promedio.append(prom)\n",
    "            prom = 0\n",
    "        \n",
    "\n",
    "    def prin_Calificaciones(self):\n",
    "        calif = zip(self.asignaturas,self.calificaciones)\n",
    "        prom = zip(self.asignaturas,self.list_promedio)\n",
    "        for materia, calificacion in calif:\n",
    "            print(materia,\":\",calificacion)\n",
    "        for materia,promedio in prom:\n",
    "            print(materia,\":\",promedio)"
   ]
  },
  {
   "cell_type": "code",
   "execution_count": 36,
   "metadata": {},
   "outputs": [
    {
     "name": "stdout",
     "output_type": "stream",
     "text": [
      "Matematicas : [6, 7, 8]\n",
      "Fisica : [5, 8, 7]\n",
      "Quimica : [7, 6, 6]\n",
      "Historia : [9, 8, 7]\n",
      "Ingles : [10, 8, 7]\n",
      "Matematicas : 7.0\n",
      "Fisica : 6.666666666666667\n",
      "Quimica : 6.333333333333333\n",
      "Historia : 8.0\n",
      "Ingles : 8.333333333333334\n"
     ]
    }
   ],
   "source": [
    "obj = Calificaciones()\n",
    "obj.obtain_Calif()\n",
    "obj.Promedio()\n",
    "obj.prin_Calificaciones()"
   ]
  },
  {
   "cell_type": "code",
   "execution_count": 9,
   "metadata": {},
   "outputs": [
    {
     "name": "stdout",
     "output_type": "stream",
     "text": [
      "['b', 'c', 'e', 'f', 'h', 'i', 'k', 'l', 'n', 'o', 'q', 'r', 't', 'u', 'w', 'x', 'z']\n"
     ]
    }
   ],
   "source": [
    " # Escribir un programa que almacene el abecedario enuna lista ,elimine de la lista las letras que aocupen posiciones multiplos de 3 y muestre en pantalla la lista resultante\n",
    "import copy\n",
    "def abecedario():\n",
    "    abecedario = ['a','b','c','d','e','f','g','h','i','j','k','l','m','n','o','p','q','r','s','t','u','v','w','x','y','z']\n",
    "    new_abecedario = []\n",
    "\n",
    "    for i in range(1,len(abecedario)):\n",
    "        if i % 3 != 0:\n",
    "            new_abecedario.append(abecedario[i])\n",
    "            \n",
    "\n",
    "    print(new_abecedario)\n",
    "\n",
    "abecedario()"
   ]
  },
  {
   "cell_type": "code",
   "execution_count": 15,
   "metadata": {},
   "outputs": [
    {
     "name": "stdout",
     "output_type": "stream",
     "text": [
      "La palabra no es un palindromo\n"
     ]
    }
   ],
   "source": [
    "# Escribir un programa donde ingresen unapalabra y decir si es un palindromo\n",
    "\n",
    "palabra = str(input(\" Ingresa una palabra\"))\n",
    "lisPalabra = []\n",
    "lisPosicion = []\n",
    "isPalindromo = True\n",
    "\n",
    "lisPalabra = list(palabra)\n",
    "for i in range(len(palabra)):\n",
    "    if i not in lisPosicion:\n",
    "        if lisPalabra[i] != lisPalabra[len(palabra)-i-1]:\n",
    "            isPalindromo = False\n",
    "            break\n",
    "        else:\n",
    "            lisPosicion.append(i)\n",
    "\n",
    "if isPalindromo:\n",
    "    print(\"La palabra es un palindromo\")\n",
    "else:\n",
    "    print(\"La palabra no es un palindromo\")\n",
    "    \n",
    "\n"
   ]
  },
  {
   "cell_type": "code",
   "execution_count": 10,
   "metadata": {},
   "outputs": [
    {
     "name": "stdout",
     "output_type": "stream",
     "text": [
      "Numero menor:  8\n",
      "Numero mayor :  80\n"
     ]
    }
   ],
   "source": [
    "# Escribir un programa que almacene en una lista los siguientes precios, 50, 75, 46, 22, 80, 65, 8, y muestre por pantalla el menor y el mayor de los precios.\n",
    "\n",
    "lisPrecios = []\n",
    "val = 1\n",
    "\n",
    "while (val!=0):\n",
    "    val = int(input(\"Ingrese los precios:\"))\n",
    "\n",
    "\n",
    "    if val != 0:\n",
    "        lisPrecios.append(val)\n",
    "        \n",
    "    \n",
    "\n",
    "numMenor = lisPrecios[0]\n",
    "numMayor = lisPrecios[0]\n",
    "\n",
    "for i in lisPrecios:\n",
    "    for y in lisPrecios:\n",
    "        if y < i and y < numMenor:\n",
    "            numMenor = y\n",
    "        elif y > i and y > numMayor:\n",
    "            numMayor = y\n",
    "\n",
    "\n",
    "print (\"Numero menor: \",numMenor)\n",
    "print(\"Numero mayor : \",numMayor)\n"
   ]
  }
 ],
 "metadata": {
  "kernelspec": {
   "display_name": "Python 3",
   "language": "python",
   "name": "python3"
  },
  "language_info": {
   "codemirror_mode": {
    "name": "ipython",
    "version": 3
   },
   "file_extension": ".py",
   "mimetype": "text/x-python",
   "name": "python",
   "nbconvert_exporter": "python",
   "pygments_lexer": "ipython3",
   "version": "3.11.5"
  },
  "orig_nbformat": 4
 },
 "nbformat": 4,
 "nbformat_minor": 2
}
