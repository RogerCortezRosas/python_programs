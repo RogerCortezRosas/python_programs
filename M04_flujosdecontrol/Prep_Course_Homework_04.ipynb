{
 "cells": [
  {
   "attachments": {},
   "cell_type": "markdown",
   "metadata": {},
   "source": [
    "## Flujos de Control"
   ]
  },
  {
   "attachments": {},
   "cell_type": "markdown",
   "metadata": {},
   "source": [
    "1) Crear una variable que contenga un elemento del conjunto de números enteros y luego imprimir por pantalla si es mayor o menor a cero"
   ]
  },
  {
   "cell_type": "code",
   "execution_count": 1,
   "metadata": {},
   "outputs": [
    {
     "name": "stdout",
     "output_type": "stream",
     "text": [
      "8\n"
     ]
    }
   ],
   "source": [
    "num = 8\n",
    "\n",
    "if num > 0:\n",
    "    print(num)"
   ]
  },
  {
   "attachments": {},
   "cell_type": "markdown",
   "metadata": {},
   "source": [
    "2) Crear dos variables y un condicional que informe si son del mismo tipo de dato"
   ]
  },
  {
   "cell_type": "code",
   "execution_count": 2,
   "metadata": {},
   "outputs": [
    {
     "name": "stdout",
     "output_type": "stream",
     "text": [
      "Tipo de dato diferente\n"
     ]
    }
   ],
   "source": [
    "var = 0\n",
    "name = 'hola'\n",
    "\n",
    "if var == name:\n",
    "    print(\"Mismo tipo de dato\")\n",
    "else:\n",
    "    print(\"Tipo de dato diferente\")"
   ]
  },
  {
   "attachments": {},
   "cell_type": "markdown",
   "metadata": {},
   "source": [
    "3) Para los valores enteros del 1 al 20, imprimir por pantalla si es par o impar"
   ]
  },
  {
   "cell_type": "code",
   "execution_count": 7,
   "metadata": {},
   "outputs": [
    {
     "name": "stdout",
     "output_type": "stream",
     "text": [
      "El numero  1  es un numero impar\n",
      "El numero  2  es par\n",
      "El numero  3  es un numero impar\n",
      "El numero  4  es par\n",
      "El numero  5  es un numero impar\n",
      "El numero  6  es par\n",
      "El numero  7  es un numero impar\n",
      "El numero  8  es par\n",
      "El numero  9  es un numero impar\n",
      "El numero  10  es par\n",
      "El numero  11  es un numero impar\n",
      "El numero  12  es par\n",
      "El numero  13  es un numero impar\n",
      "El numero  14  es par\n",
      "El numero  15  es un numero impar\n",
      "El numero  16  es par\n",
      "El numero  17  es un numero impar\n",
      "El numero  18  es par\n",
      "El numero  19  es un numero impar\n",
      "El numero  20  es par\n"
     ]
    }
   ],
   "source": [
    "for i in  range(1,21):\n",
    "    var = i%2\n",
    "    if var == 0:\n",
    "        print(\"El numero \",i,\" es par\")\n",
    "    else:\n",
    "        print(\"El numero \",i,\" es un numero impar\")\n"
   ]
  },
  {
   "attachments": {},
   "cell_type": "markdown",
   "metadata": {},
   "source": [
    "4) En un ciclo for mostrar para los valores entre 0 y 5 el resultado de elevarlo a la potencia igual a 3"
   ]
  },
  {
   "cell_type": "code",
   "execution_count": 8,
   "metadata": {},
   "outputs": [
    {
     "name": "stdout",
     "output_type": "stream",
     "text": [
      "Num:  0 Potencia al cubo:  0\n",
      "Num:  1 Potencia al cubo:  1\n",
      "Num:  2 Potencia al cubo:  8\n",
      "Num:  3 Potencia al cubo:  27\n",
      "Num:  4 Potencia al cubo:  64\n"
     ]
    }
   ],
   "source": [
    "for i in range (0,5):\n",
    "    print(\"Num: \",i,\"Potencia al cubo: \",i**3)"
   ]
  },
  {
   "attachments": {},
   "cell_type": "markdown",
   "metadata": {},
   "source": [
    "5) Crear una variable que contenga un número entero y realizar un ciclo for la misma cantidad de ciclos"
   ]
  },
  {
   "cell_type": "code",
   "execution_count": 10,
   "metadata": {},
   "outputs": [
    {
     "name": "stdout",
     "output_type": "stream",
     "text": [
      "1\n",
      "2\n",
      "3\n"
     ]
    }
   ],
   "source": [
    "var = 4\n",
    "for i in range(1,var):\n",
    "    print(i)"
   ]
  },
  {
   "attachments": {},
   "cell_type": "markdown",
   "metadata": {},
   "source": [
    "6) Utilizar un ciclo while para realizar el factorial de un número guardado en una variable, sólo si la variable contiene un número entero mayor a 0"
   ]
  },
  {
   "cell_type": "code",
   "execution_count": 13,
   "metadata": {},
   "outputs": [
    {
     "name": "stdout",
     "output_type": "stream",
     "text": [
      "20\n",
      "60\n",
      "120\n",
      "120\n",
      "0\n"
     ]
    }
   ],
   "source": [
    "x = 5\n",
    "fact = 5\n",
    "while x>0:\n",
    "       x-=1\n",
    "       \n",
    "       fact = fact*(x)\n",
    "       print(fact)"
   ]
  },
  {
   "attachments": {},
   "cell_type": "markdown",
   "metadata": {},
   "source": [
    "7) Crear un ciclo for dentro de un ciclo while"
   ]
  },
  {
   "cell_type": "code",
   "execution_count": 20,
   "metadata": {},
   "outputs": [
    {
     "name": "stdout",
     "output_type": "stream",
     "text": [
      "Ciclo while  1\n",
      "ciclo for :  1\n",
      "Ciclo while  2\n",
      "ciclo for :  1\n",
      "ciclo for :  2\n",
      "Ciclo while  3\n",
      "ciclo for :  1\n",
      "ciclo for :  2\n",
      "ciclo for :  3\n",
      "Ciclo while  4\n",
      "ciclo for :  1\n",
      "ciclo for :  2\n",
      "ciclo for :  3\n",
      "ciclo for :  4\n",
      "Ciclo while  5\n",
      "ciclo for :  1\n",
      "ciclo for :  2\n",
      "ciclo for :  3\n",
      "ciclo for :  4\n",
      "ciclo for :  5\n",
      "Ciclo while  6\n",
      "ciclo for :  1\n",
      "ciclo for :  2\n",
      "ciclo for :  3\n",
      "ciclo for :  4\n",
      "ciclo for :  5\n",
      "ciclo for :  6\n",
      "Ciclo while  7\n",
      "ciclo for :  1\n",
      "ciclo for :  2\n",
      "ciclo for :  3\n",
      "ciclo for :  4\n",
      "ciclo for :  5\n",
      "ciclo for :  6\n",
      "ciclo for :  7\n",
      "Ciclo while  8\n",
      "ciclo for :  1\n",
      "ciclo for :  2\n",
      "ciclo for :  3\n",
      "ciclo for :  4\n",
      "ciclo for :  5\n",
      "ciclo for :  6\n",
      "ciclo for :  7\n",
      "ciclo for :  8\n",
      "Ciclo while  9\n",
      "ciclo for :  1\n",
      "ciclo for :  2\n",
      "ciclo for :  3\n",
      "ciclo for :  4\n",
      "ciclo for :  5\n",
      "ciclo for :  6\n",
      "ciclo for :  7\n",
      "ciclo for :  8\n",
      "ciclo for :  9\n"
     ]
    }
   ],
   "source": [
    "bandera = 1\n",
    "while bandera < 10:\n",
    "    print(\"Ciclo while \",bandera)\n",
    "    for i in range(1,bandera+1):\n",
    "        print(\"ciclo for : \",i)\n",
    "    \n",
    "    bandera+=1\n",
    "\n"
   ]
  },
  {
   "attachments": {},
   "cell_type": "markdown",
   "metadata": {},
   "source": [
    "8) Crear un ciclo while dentro de un ciclo for"
   ]
  },
  {
   "cell_type": "code",
   "execution_count": 27,
   "metadata": {},
   "outputs": [
    {
     "name": "stdout",
     "output_type": "stream",
     "text": [
      "Ciclo for:  1\n",
      "2\n",
      "3\n",
      "Ciclo for:  2\n",
      "2\n",
      "3\n",
      "Ciclo for:  3\n",
      "2\n",
      "3\n",
      "Ciclo for:  4\n",
      "2\n",
      "3\n",
      "Ciclo for:  5\n",
      "2\n",
      "3\n"
     ]
    }
   ],
   "source": [
    "for i in range(1,6):\n",
    "    print(\"Ciclo for: \",i)\n",
    "    x=1\n",
    "    while x<3:\n",
    "        x +=1\n",
    "        print(x)\n",
    "    "
   ]
  },
  {
   "attachments": {},
   "cell_type": "markdown",
   "metadata": {},
   "source": [
    "9) Imprimir los números primos existentes entre 0 y 30"
   ]
  },
  {
   "cell_type": "code",
   "execution_count": 47,
   "metadata": {},
   "outputs": [
    {
     "name": "stdout",
     "output_type": "stream",
     "text": [
      "0\n",
      "1\n",
      "2\n",
      "3\n",
      "5\n",
      "7\n",
      "11\n",
      "13\n",
      "17\n",
      "19\n",
      "23\n",
      "29\n"
     ]
    }
   ],
   "source": [
    "#Los numeros primos son todos aquellos que son divisibles entre ellos mismos y el 1\n",
    "primo = True\n",
    "n=0\n",
    "\n",
    "while n <=30:\n",
    "    for i in range (2,n):\n",
    "        if n%i == 0: #Dividimos el numero n(Los numero del 0...30) entre 1,2,3 si es divisible entre cualquiera de esos numero entonces no es primo s se lleva la variable primo ->\n",
    "            primo = False\n",
    "    \n",
    "    if primo == True:\n",
    "        print(n)\n",
    "    else :\n",
    "        primo = True\n",
    "    n+=1\n",
    "\n",
    "    \n"
   ]
  },
  {
   "attachments": {},
   "cell_type": "markdown",
   "metadata": {},
   "source": [
    "10) ¿Se puede mejorar el proceso del punto 9? Utilizar las sentencias break y/ó continue para tal fin"
   ]
  },
  {
   "cell_type": "code",
   "execution_count": 2,
   "metadata": {},
   "outputs": [
    {
     "name": "stdout",
     "output_type": "stream",
     "text": [
      "0\n",
      "1\n",
      "2\n",
      "3\n",
      "5\n",
      "7\n",
      "11\n",
      "13\n",
      "17\n",
      "19\n",
      "23\n",
      "29\n"
     ]
    }
   ],
   "source": [
    "primo = True \n",
    "n = 0\n",
    "\n",
    "while n <= 30:\n",
    "    for i in range (2,n):\n",
    "        if n % i == 0:\n",
    "            primo = False\n",
    "            break\n",
    "    \n",
    "    if primo == True:\n",
    "        print (n)\n",
    "    else:\n",
    "        primo = True\n",
    "    \n",
    "    n+=1"
   ]
  },
  {
   "attachments": {},
   "cell_type": "markdown",
   "metadata": {},
   "source": [
    "11) En los puntos 9 y 10, se diseño un código que encuentra números primos y además se lo optimizó. ¿Es posible saber en qué medida se optimizó?"
   ]
  },
  {
   "cell_type": "code",
   "execution_count": 5,
   "metadata": {},
   "outputs": [
    {
     "name": "stdout",
     "output_type": "stream",
     "text": [
      "0\n",
      "1\n",
      "2\n",
      "3\n",
      "5\n",
      "7\n",
      "11\n",
      "13\n",
      "17\n",
      "19\n",
      "23\n",
      "29\n",
      "Numero de ciclos sin break  406\n"
     ]
    }
   ],
   "source": [
    "primo = True \n",
    "n = 0\n",
    "sin_break = 0\n",
    "\n",
    "while n <= 30:\n",
    "    for i in range (2,n):\n",
    "        sin_break +=1\n",
    "        if n % i == 0:\n",
    "            primo = False\n",
    "            \n",
    "    \n",
    "    if primo == True:\n",
    "        print (n)\n",
    "    else:\n",
    "        primo = True\n",
    "    \n",
    "    n+=1\n",
    "print(\"Numero de ciclos sin break \",sin_break)"
   ]
  },
  {
   "cell_type": "code",
   "execution_count": 6,
   "metadata": {},
   "outputs": [
    {
     "name": "stdout",
     "output_type": "stream",
     "text": [
      "0\n",
      "1\n",
      "2\n",
      "3\n",
      "5\n",
      "7\n",
      "11\n",
      "13\n",
      "17\n",
      "19\n",
      "23\n",
      "29\n",
      "Numero de ciclos con_break:  135\n"
     ]
    }
   ],
   "source": [
    "primo = True \n",
    "n = 0\n",
    "con_break = 0\n",
    "while n <= 30:\n",
    "    for i in range (2,n):\n",
    "        con_break+=1\n",
    "        if n % i == 0:\n",
    "            primo = False\n",
    "            break\n",
    "    \n",
    "    if primo == True:\n",
    "        print (n)\n",
    "    else:\n",
    "        primo = True\n",
    "    \n",
    "    n+=1\n",
    "print(\"Numero de ciclos con_break: \",con_break)"
   ]
  },
  {
   "attachments": {},
   "cell_type": "markdown",
   "metadata": {},
   "source": [
    "12) Aplicando continue, armar un ciclo while que solo imprima los valores divisibles por 12, dentro del rango de números de 100 a 300"
   ]
  },
  {
   "cell_type": "code",
   "execution_count": 5,
   "metadata": {},
   "outputs": [
    {
     "name": "stdout",
     "output_type": "stream",
     "text": [
      "108\n",
      "120\n",
      "132\n",
      "144\n",
      "156\n",
      "168\n",
      "180\n",
      "192\n",
      "204\n",
      "216\n",
      "228\n",
      "240\n",
      "252\n",
      "264\n",
      "276\n",
      "288\n",
      "300\n"
     ]
    }
   ],
   "source": [
    "initial = 99\n",
    "while (initial<=300):\n",
    "   initial+=1\n",
    "   if(initial % 12 !=0):\n",
    "      continue\n",
    "   print(initial)\n",
    "      \n"
   ]
  },
  {
   "attachments": {},
   "cell_type": "markdown",
   "metadata": {},
   "source": [
    "13) Utilizar la función **input()** que permite hacer ingresos por teclado, para encontrar números primos y dar la opción al usario de buscar el siguiente"
   ]
  },
  {
   "cell_type": "code",
   "execution_count": 6,
   "metadata": {},
   "outputs": [
    {
     "name": "stdout",
     "output_type": "stream",
     "text": [
      "1\n",
      "¿Desea encontrar el siguiente número primo?\n",
      "2\n",
      "¿Desea encontrar el siguiente número primo?\n",
      "3\n",
      "¿Desea encontrar el siguiente número primo?\n",
      "5\n",
      "¿Desea encontrar el siguiente número primo?\n",
      "Se finaliza el proceso\n"
     ]
    }
   ],
   "source": [
    "n = 1\n",
    "sigue = 1\n",
    "primo = True\n",
    "while (sigue == 1):\n",
    "    for div in range(2, n):\n",
    "        if (n % div == 0):\n",
    "            primo = False\n",
    "            break\n",
    "    if (primo):\n",
    "        print(n)\n",
    "        print('¿Desea encontrar el siguiente número primo?')\n",
    "        if (input() != '1'):\n",
    "            print('Se finaliza el proceso')\n",
    "            break\n",
    "    else:\n",
    "        primo = True\n",
    "    n += 1"
   ]
  },
  {
   "attachments": {},
   "cell_type": "markdown",
   "metadata": {},
   "source": [
    "14) Crear un ciclo while que encuentre dentro del rango de 100 a 300 el primer número divisible por 3 y además múltiplo de 6"
   ]
  },
  {
   "cell_type": "code",
   "execution_count": 13,
   "metadata": {},
   "outputs": [
    {
     "name": "stdout",
     "output_type": "stream",
     "text": [
      "El numero  99  es dividsible entre 3\n",
      "El numero  102  es dividsible entre 3\n",
      "El numero  105  es dividsible entre 3\n",
      "El numero  108  es dividsible entre 3\n",
      "El numero  111  es dividsible entre 3\n",
      "El numero  114  es dividsible entre 3\n",
      "El numero  117  es dividsible entre 3\n",
      "El numero  120  es dividsible entre 3\n",
      "El numero  123  es dividsible entre 3\n",
      "El numero  126  es dividsible entre 3\n",
      "El numero  129  es dividsible entre 3\n",
      "El numero  132  es dividsible entre 3\n",
      "El numero  135  es dividsible entre 3\n",
      "El numero  138  es dividsible entre 3\n",
      "El numero  141  es dividsible entre 3\n",
      "El numero  144  es dividsible entre 3\n",
      "El numero  147  es dividsible entre 3\n",
      "El numero  150  es dividsible entre 3\n",
      "El numero  153  es dividsible entre 3\n",
      "El numero  156  es dividsible entre 3\n",
      "El numero  159  es dividsible entre 3\n",
      "El numero  162  es dividsible entre 3\n",
      "El numero  165  es dividsible entre 3\n",
      "El numero  168  es dividsible entre 3\n",
      "El numero  171  es dividsible entre 3\n",
      "El numero  174  es dividsible entre 3\n",
      "El numero  177  es dividsible entre 3\n",
      "El numero  180  es dividsible entre 3\n",
      "El numero  183  es dividsible entre 3\n",
      "El numero  186  es dividsible entre 3\n",
      "El numero  189  es dividsible entre 3\n",
      "El numero  192  es dividsible entre 3\n",
      "El numero  195  es dividsible entre 3\n",
      "El numero  198  es dividsible entre 3\n",
      "El numero  201  es dividsible entre 3\n",
      "El numero  204  es dividsible entre 3\n",
      "El numero  207  es dividsible entre 3\n",
      "El numero  210  es dividsible entre 3\n",
      "El numero  213  es dividsible entre 3\n",
      "El numero  216  es dividsible entre 3\n",
      "El numero  219  es dividsible entre 3\n",
      "El numero  222  es dividsible entre 3\n",
      "El numero  225  es dividsible entre 3\n",
      "El numero  228  es dividsible entre 3\n",
      "El numero  231  es dividsible entre 3\n",
      "El numero  234  es dividsible entre 3\n",
      "El numero  237  es dividsible entre 3\n",
      "El numero  240  es dividsible entre 3\n",
      "El numero  243  es dividsible entre 3\n",
      "El numero  246  es dividsible entre 3\n",
      "El numero  249  es dividsible entre 3\n",
      "El numero  252  es dividsible entre 3\n",
      "El numero  255  es dividsible entre 3\n",
      "El numero  258  es dividsible entre 3\n",
      "El numero  261  es dividsible entre 3\n",
      "El numero  264  es dividsible entre 3\n",
      "El numero  267  es dividsible entre 3\n",
      "El numero  270  es dividsible entre 3\n",
      "El numero  273  es dividsible entre 3\n",
      "El numero  276  es dividsible entre 3\n",
      "El numero  279  es dividsible entre 3\n",
      "El numero  282  es dividsible entre 3\n",
      "El numero  285  es dividsible entre 3\n",
      "El numero  288  es dividsible entre 3\n",
      "El numero  291  es dividsible entre 3\n",
      "El numero  294  es dividsible entre 3\n",
      "El numero  297  es dividsible entre 3\n",
      "El numero  300  es dividsible entre 3\n"
     ]
    }
   ],
   "source": [
    "init = 99\n",
    "contador = 0\n",
    "while init <= 300:\n",
    "    contador+=1\n",
    "    if(init % 3 == 0 ):\n",
    "        print(\"El numero \",init,\" es dividsible entre 3\")\n",
    "        \n",
    "        \n",
    "    init+=1\n",
    "    "
   ]
  }
 ],
 "metadata": {
  "interpreter": {
   "hash": "c85384e4cb51c8b72350f3a8712cc8351fdc3955e32a27f9b60c6242ab125f01"
  },
  "kernelspec": {
   "display_name": "Python 3 (ipykernel)",
   "language": "python",
   "name": "python3"
  },
  "language_info": {
   "codemirror_mode": {
    "name": "ipython",
    "version": 3
   },
   "file_extension": ".py",
   "mimetype": "text/x-python",
   "name": "python",
   "nbconvert_exporter": "python",
   "pygments_lexer": "ipython3",
   "version": "3.11.4"
  }
 },
 "nbformat": 4,
 "nbformat_minor": 4
}
