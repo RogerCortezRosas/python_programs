{
 "cells": [
  {
   "attachments": {},
   "cell_type": "markdown",
   "metadata": {},
   "source": [
    "## Funciones"
   ]
  },
  {
   "attachments": {},
   "cell_type": "markdown",
   "metadata": {},
   "source": [
    "1) Crear una función que reciba un número como parámetro y devuelva True si es primo y False si no lo es"
   ]
  },
  {
   "cell_type": "code",
   "execution_count": 2,
   "metadata": {},
   "outputs": [
    {
     "data": {
      "text/plain": [
       "True"
      ]
     },
     "execution_count": 2,
     "metadata": {},
     "output_type": "execute_result"
    }
   ],
   "source": [
    "def verifica_primo(nro):\n",
    "    es_primo = True  # Variable para almacenar el resultado de la verificación de número primo\n",
    "    for i in range(2, nro):  # Iteración sobre los números desde 2 hasta nro-1\n",
    "        if nro % i == 0:  # Verificación si nro es divisible por i (no es primo)\n",
    "            es_primo = False  # Se marca la variable como False indicando que el número no es primo\n",
    "            break  # Se rompe el bucle ya que no es necesario continuar la verificación\n",
    "    return es_primo  # Se devuelve el resultado de la verificación de número primo\n",
    "\n",
    "verifica_primo (2)"
   ]
  },
  {
   "attachments": {},
   "cell_type": "markdown",
   "metadata": {},
   "source": [
    "2) Utilizando la función del punto 1, realizar otra función que reciba de parámetro una lista de números y devuelva sólo aquellos que son primos en otra lista"
   ]
  },
  {
   "cell_type": "code",
   "execution_count": null,
   "metadata": {},
   "outputs": [],
   "source": [
    "def listaNumeros (lista):\n",
    "    newLista = []\n",
    "    for c in lista:\n",
    "        varBool = primo(c)\n",
    "        if varBool == True:\n",
    "            newLista.append(c)\n",
    "    \n",
    "    return newLista\n",
    "\n",
    "lis = [2,3,4,5,6,7,8,9]\n",
    "\n",
    "listaNumeros(lis)"
   ]
  },
  {
   "attachments": {},
   "cell_type": "markdown",
   "metadata": {},
   "source": [
    "3) Crear una función que al recibir una lista de números, devuelva el que más se repite y cuántas veces lo hace. Si hay más de un \"más repetido\", que devuelva cualquiera"
   ]
  },
  {
   "cell_type": "code",
   "execution_count": 17,
   "metadata": {},
   "outputs": [
    {
     "data": {
      "text/plain": [
       "(1, 3)"
      ]
     },
     "execution_count": 17,
     "metadata": {},
     "output_type": "execute_result"
    }
   ],
   "source": [
    "def Funcion (lista):\n",
    "    x = 1\n",
    "    repite = 1\n",
    "    repite_final = 0\n",
    "    elemneto_mayor = 0\n",
    "    z = 0\n",
    "    while z < len(lista):\n",
    "        while x <len(lista):\n",
    "            if lista[z] == lista[x]:\n",
    "                repite +=1\n",
    "            x+=1\n",
    "        if repite > repite_final:\n",
    "            repite_final = repite\n",
    "            elemneto_mayor = lista[z]\n",
    "        repite=1\n",
    "        x = z+2\n",
    "        z+=1\n",
    "    return elemneto_mayor ,repite_final\n",
    "\n",
    "\n",
    "listaNum = [ 1,2,2,3,7,3,4,3,6,1,5,1]\n",
    "\n",
    "Funcion(listaNum)\n",
    "       \n"
   ]
  },
  {
   "attachments": {},
   "cell_type": "markdown",
   "metadata": {},
   "source": [
    "4) Crear una función que convierta entre grados Celsius, Farenheit y Kelvin<br>\n",
    "Fórmula 1\t: (°C × 9/5) + 32 = °F<br>\n",
    "Fórmula 2\t: °C + 273.15 = °K<br>\n",
    "Debe recibir 3 parámetros: el valor, la medida de orígen y la medida de destino\n"
   ]
  },
  {
   "cell_type": "code",
   "execution_count": 18,
   "metadata": {},
   "outputs": [
    {
     "name": "stdout",
     "output_type": "stream",
     "text": [
      "25  grados Celsius son  77.0  Grados Farenheit\n"
     ]
    }
   ],
   "source": [
    "def Grados (valor,origen,destino):\n",
    "    if origen == \"Celsius\":\n",
    "        if destino == \"Farenheit\":\n",
    "            F = valor*(9/5)+32\n",
    "            return print(valor,\" grados Celsius son \",F,\" Grados Farenheit\")\n",
    "        elif destino == \"Kelvin\":\n",
    "            K = valor + 273.15\n",
    "            return print(valor,\" grados Celsius son \",K,\" Grados Kelvin\")\n",
    "        \n",
    "Grados(25,\"Celsius\",\"Farenheit\")\n"
   ]
  },
  {
   "attachments": {},
   "cell_type": "markdown",
   "metadata": {},
   "source": [
    "5) Iterando una lista con los tres valores posibles de temperatura que recibe la función del punto 5, hacer un print para cada combinación de los mismos:"
   ]
  },
  {
   "cell_type": "code",
   "execution_count": 19,
   "metadata": {},
   "outputs": [
    {
     "name": "stdout",
     "output_type": "stream",
     "text": [
      "25  grados Celsius son  77.0  Grados Farenheit\n",
      "0  grados Celsius son  32.0  Grados Farenheit\n",
      "10  grados Celsius son  50.0  Grados Farenheit\n"
     ]
    }
   ],
   "source": [
    "lisGrados = [25,0,10]\n",
    "\n",
    "for g in lisGrados:\n",
    "    Grados(g,\"Celsius\",\"Farenheit\")"
   ]
  },
  {
   "attachments": {},
   "cell_type": "markdown",
   "metadata": {},
   "source": [
    "6) Armar una función que devuelva el factorial de un número. Tener en cuenta que el usuario puede equivocarse y enviar de parámetro un número no entero o negativo"
   ]
  },
  {
   "cell_type": "code",
   "execution_count": 3,
   "metadata": {},
   "outputs": [
    {
     "data": {
      "text/plain": [
       "''"
      ]
     },
     "execution_count": 3,
     "metadata": {},
     "output_type": "execute_result"
    }
   ],
   "source": [
    "def factorial (numero):\n",
    "    if type(numero) != int:\n",
    "        return \"El numero ingresado no es entero\"\n",
    "    if numero < 0 :\n",
    "        return \"El numero ingresado es menor que cero\"\n",
    "    \n",
    "    numero = numero * factorial(numero - 1)\n",
    "\n",
    "    return numero\n",
    "\n",
    "factorial(3)\n"
   ]
  }
 ],
 "metadata": {
  "interpreter": {
   "hash": "c85384e4cb51c8b72350f3a8712cc8351fdc3955e32a27f9b60c6242ab125f01"
  },
  "kernelspec": {
   "display_name": "Python 3 (ipykernel)",
   "language": "python",
   "name": "python3"
  },
  "language_info": {
   "codemirror_mode": {
    "name": "ipython",
    "version": 3
   },
   "file_extension": ".py",
   "mimetype": "text/x-python",
   "name": "python",
   "nbconvert_exporter": "python",
   "pygments_lexer": "ipython3",
   "version": "3.11.4"
  }
 },
 "nbformat": 4,
 "nbformat_minor": 4
}
