{
 "cells": [
  {
   "cell_type": "code",
   "execution_count": 1,
   "metadata": {},
   "outputs": [
    {
     "name": "stdout",
     "output_type": "stream",
     "text": [
      "Roger\n",
      "Roger\n",
      "Roger\n",
      "Roger\n",
      "Roger\n",
      "Roger\n",
      "Roger\n",
      "Roger\n",
      "Roger\n"
     ]
    }
   ],
   "source": [
    "#Programa que pide el nombre al ususario y lo imprime 10 veces\n",
    "\n",
    "nombre = str(input(\"Cual es tu nombre?\"))\n",
    "\n",
    "for i in range(0,9):\n",
    "    print(nombre)"
   ]
  },
  {
   "cell_type": "code",
   "execution_count": 5,
   "metadata": {},
   "outputs": [
    {
     "name": "stdout",
     "output_type": "stream",
     "text": [
      "1\n",
      "3\n",
      "5\n",
      "7\n",
      "9\n"
     ]
    },
    {
     "data": {
      "text/plain": [
       "[1, 3, 5, 7, 9]"
      ]
     },
     "execution_count": 5,
     "metadata": {},
     "output_type": "execute_result"
    }
   ],
   "source": [
    "#Programa que pide al usuario ingresar un numero entero positivo y muestre en pantall todo slos numeros impares\n",
    "\n",
    "numero = int(input(\"Ingresa un numero: \"))\n",
    "\n",
    "for i in range (1,numero+1):\n",
    "    if i % 2 != 0:\n",
    "        print(i)\n",
    "\n",
    "\n",
    "lista = []\n",
    "\n",
    "for i in range (1,numero+1):\n",
    "    \n",
    "        lista.append(i)\n",
    "        \n",
    "list(filter(lambda x : (x % 2 != 0),lista))"
   ]
  },
  {
   "cell_type": "code",
   "execution_count": 12,
   "metadata": {},
   "outputs": [
    {
     "name": "stdout",
     "output_type": "stream",
     "text": [
      "6,5,4,3,2,1,0."
     ]
    }
   ],
   "source": [
    "#Programa que pide un numero al ususario y muestra en pantalla la cuenta atras desde ese numero hasta cero separados por comas\n",
    "\n",
    "numero = int(input(\"Ingresa un numero: \"))\n",
    "\n",
    "while (numero>= 0):\n",
    "    if numero == 0:\n",
    "        print(numero , end= '.')\n",
    "        break\n",
    "    print(numero,end=',')\n",
    "    numero-=1\n",
    "\n",
    "for i in range(numero,0):\n",
    "    if i == 0:\n",
    "        print(i , end= '.')\n",
    "        break\n",
    "    print(i,end=',')\n",
    "\n"
   ]
  },
  {
   "cell_type": "code",
   "execution_count": 27,
   "metadata": {},
   "outputs": [
    {
     "name": "stdout",
     "output_type": "stream",
     "text": [
      "Capital tras 1 años: 1100.0\n",
      "Capital tras 2 años: 1210.0\n",
      "Capital tras 3 años: 1331.0\n",
      "Capital tras 4 años: 1464.1\n",
      "Capital tras 5 años: 1610.51\n"
     ]
    }
   ],
   "source": [
    "# Programa que pregunte al usuario la cantidad a invertir , el interes anual y el numero de anos a invertir\n",
    "# y muestre en pantall el capital obtenido\n",
    "\n",
    "\n",
    "\n",
    "\n",
    "def fun_inversion(inversion,anos,interes):\n",
    "    interes = interes / 100\n",
    "    ganancia = 0\n",
    "    for i in range(anos):\n",
    "\n",
    "        ganancia = inversion * interes\n",
    "        total = ganancia + inversion\n",
    "        inversion = total\n",
    "        print(\"Capital tras \" + str(i+1) + \" años: \" + str(round(total, 2)))\n",
    "\n",
    "inversion = float(input(\"Cunato desas invertir?\"))\n",
    "interes = float(input(\"De vuanto es el interes?\"))\n",
    "anos = int(input(\"CUantos anos?\"))\n",
    "\n",
    "val = fun_inversion(inversion,anos,interes)"
   ]
  },
  {
   "cell_type": "code",
   "execution_count": 34,
   "metadata": {},
   "outputs": [
    {
     "name": "stdout",
     "output_type": "stream",
     "text": [
      "       * \n",
      "      * * \n",
      "     * * * \n",
      "    * * * * \n",
      "   * * * * * \n",
      "  * * * * * * \n",
      " * * * * * * * \n"
     ]
    }
   ],
   "source": [
    "# Escribir un programa que pida al usuario un numero entero y muestre por pantall un arbol \n",
    "#como el que se muestra a continuacion \n",
    "#     *\n",
    "#    * *\n",
    "#   * * *\n",
    "#  * * * *\n",
    "# * * * * *\n",
    "#  *\n",
    "# * *\n",
    "#* * *\n",
    "\n",
    "num = int(input(\"Ingrese un numero:\"))\n",
    "espacios = num - 1\n",
    "\n",
    "for i in range(1,num+1):\n",
    "    print(' '*espacios,'* '*i)\n",
    "    espacios-=1\n",
    "\n"
   ]
  },
  {
   "cell_type": "code",
   "execution_count": 35,
   "metadata": {},
   "outputs": [
    {
     "name": "stdout",
     "output_type": "stream",
     "text": [
      "1 x 1  =  1\n",
      "1 x 2  =  2\n",
      "1 x 3  =  3\n",
      "1 x 4  =  4\n",
      "1 x 5  =  5\n",
      "1 x 6  =  6\n",
      "1 x 7  =  7\n",
      "1 x 8  =  8\n",
      "1 x 9  =  9\n",
      "1 x 10  =  10\n",
      "2 x 1  =  2\n",
      "2 x 2  =  4\n",
      "2 x 3  =  6\n",
      "2 x 4  =  8\n",
      "2 x 5  =  10\n",
      "2 x 6  =  12\n",
      "2 x 7  =  14\n",
      "2 x 8  =  16\n",
      "2 x 9  =  18\n",
      "2 x 10  =  20\n",
      "3 x 1  =  3\n",
      "3 x 2  =  6\n",
      "3 x 3  =  9\n",
      "3 x 4  =  12\n",
      "3 x 5  =  15\n",
      "3 x 6  =  18\n",
      "3 x 7  =  21\n",
      "3 x 8  =  24\n",
      "3 x 9  =  27\n",
      "3 x 10  =  30\n",
      "4 x 1  =  4\n",
      "4 x 2  =  8\n",
      "4 x 3  =  12\n",
      "4 x 4  =  16\n",
      "4 x 5  =  20\n",
      "4 x 6  =  24\n",
      "4 x 7  =  28\n",
      "4 x 8  =  32\n",
      "4 x 9  =  36\n",
      "4 x 10  =  40\n",
      "5 x 1  =  5\n",
      "5 x 2  =  10\n",
      "5 x 3  =  15\n",
      "5 x 4  =  20\n",
      "5 x 5  =  25\n",
      "5 x 6  =  30\n",
      "5 x 7  =  35\n",
      "5 x 8  =  40\n",
      "5 x 9  =  45\n",
      "5 x 10  =  50\n",
      "6 x 1  =  6\n",
      "6 x 2  =  12\n",
      "6 x 3  =  18\n",
      "6 x 4  =  24\n",
      "6 x 5  =  30\n",
      "6 x 6  =  36\n",
      "6 x 7  =  42\n",
      "6 x 8  =  48\n",
      "6 x 9  =  54\n",
      "6 x 10  =  60\n",
      "7 x 1  =  7\n",
      "7 x 2  =  14\n",
      "7 x 3  =  21\n",
      "7 x 4  =  28\n",
      "7 x 5  =  35\n",
      "7 x 6  =  42\n",
      "7 x 7  =  49\n",
      "7 x 8  =  56\n",
      "7 x 9  =  63\n",
      "7 x 10  =  70\n",
      "8 x 1  =  8\n",
      "8 x 2  =  16\n",
      "8 x 3  =  24\n",
      "8 x 4  =  32\n",
      "8 x 5  =  40\n",
      "8 x 6  =  48\n",
      "8 x 7  =  56\n",
      "8 x 8  =  64\n",
      "8 x 9  =  72\n",
      "8 x 10  =  80\n",
      "9 x 1  =  9\n",
      "9 x 2  =  18\n",
      "9 x 3  =  27\n",
      "9 x 4  =  36\n",
      "9 x 5  =  45\n",
      "9 x 6  =  54\n",
      "9 x 7  =  63\n",
      "9 x 8  =  72\n",
      "9 x 9  =  81\n",
      "9 x 10  =  90\n",
      "10 x 1  =  10\n",
      "10 x 2  =  20\n",
      "10 x 3  =  30\n",
      "10 x 4  =  40\n",
      "10 x 5  =  50\n",
      "10 x 6  =  60\n",
      "10 x 7  =  70\n",
      "10 x 8  =  80\n",
      "10 x 9  =  90\n",
      "10 x 10  =  100\n"
     ]
    }
   ],
   "source": [
    "# Escribir un programa que pmuestre las tablas de multiplicar del 1 al 10\n",
    "\n",
    "for i in range (1,10+1):\n",
    "    for j in range (1,10+1):\n",
    "        print(i,'x',j,' = ',i*j)"
   ]
  },
  {
   "cell_type": "code",
   "execution_count": 37,
   "metadata": {},
   "outputs": [],
   "source": [
    "#Escribir un programa que guarde una contrasena ingresada por el usuario y pregunte \n",
    "# al usuario por la contrasena hasta que introduzaca la contrasena correcta\n",
    "\n",
    "contra = str(input(\"introduce contrasena\"))\n",
    "newcontra=''\n",
    "\n",
    "while (contra != newcontra):\n",
    "    newcontra = str(input(\"introduce contra\"))"
   ]
  },
  {
   "cell_type": "code",
   "execution_count": 39,
   "metadata": {},
   "outputs": [
    {
     "name": "stdout",
     "output_type": "stream",
     "text": [
      "8  no es un numero primo\n"
     ]
    }
   ],
   "source": [
    "# Escribir un programa que pida al usuario un numero entero y muestre si es un numero primo o no \n",
    "\n",
    "\n",
    "num = int(input(\"Ingrese un numero\"))\n",
    "primo = True\n",
    "\n",
    "for i in range(2,num):\n",
    "    if( num % i == 0):\n",
    "        primo = False\n",
    "        break\n",
    "\n",
    "if primo:\n",
    "    print(num,\" es un numero primo\")\n",
    "\n",
    "else:\n",
    "    print(num,\" no es un numero primo\")\n",
    "\n",
    "\n"
   ]
  },
  {
   "cell_type": "code",
   "execution_count": 46,
   "metadata": {},
   "outputs": [
    {
     "name": "stdout",
     "output_type": "stream",
     "text": [
      "r\n",
      "a\n",
      "m\n",
      "a\n",
      "l\n",
      "a\n",
      "c\n"
     ]
    }
   ],
   "source": [
    "# Escribir un programa que pida al usuario un programa y luego muestre en pantalla una a una las letras de la palabra empezando por la ultima\n",
    "\n",
    "word = str(input('Introduce una palabra'))\n",
    "len(word)\n",
    "for i in range(len(word)):\n",
    "   print(word[len(word)-i-1])"
   ]
  }
 ],
 "metadata": {
  "kernelspec": {
   "display_name": "Python 3",
   "language": "python",
   "name": "python3"
  },
  "language_info": {
   "codemirror_mode": {
    "name": "ipython",
    "version": 3
   },
   "file_extension": ".py",
   "mimetype": "text/x-python",
   "name": "python",
   "nbconvert_exporter": "python",
   "pygments_lexer": "ipython3",
   "version": "3.11.4"
  },
  "orig_nbformat": 4
 },
 "nbformat": 4,
 "nbformat_minor": 2
}
